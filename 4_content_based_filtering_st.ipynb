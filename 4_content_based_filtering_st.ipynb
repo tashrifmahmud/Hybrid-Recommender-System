{
 "cells": [
  {
   "cell_type": "markdown",
   "metadata": {},
   "source": [
    "The goal here is to preprocess our anime data and also create the content based recommendation model."
   ]
  },
  {
   "cell_type": "code",
   "execution_count": 1,
   "metadata": {},
   "outputs": [],
   "source": [
    "import pandas as pd"
   ]
  },
  {
   "cell_type": "code",
   "execution_count": 2,
   "metadata": {},
   "outputs": [],
   "source": [
    "anime_filtered_df = pd.read_csv(\"data/anime_filtered.csv\")"
   ]
  },
  {
   "cell_type": "code",
   "execution_count": 3,
   "metadata": {},
   "outputs": [
    {
     "data": {
      "text/html": [
       "<div>\n",
       "<style scoped>\n",
       "    .dataframe tbody tr th:only-of-type {\n",
       "        vertical-align: middle;\n",
       "    }\n",
       "\n",
       "    .dataframe tbody tr th {\n",
       "        vertical-align: top;\n",
       "    }\n",
       "\n",
       "    .dataframe thead th {\n",
       "        text-align: right;\n",
       "    }\n",
       "</style>\n",
       "<table border=\"1\" class=\"dataframe\">\n",
       "  <thead>\n",
       "    <tr style=\"text-align: right;\">\n",
       "      <th></th>\n",
       "      <th>anime_id</th>\n",
       "      <th>name</th>\n",
       "      <th>score</th>\n",
       "      <th>rank</th>\n",
       "      <th>genres</th>\n",
       "      <th>synopsis</th>\n",
       "      <th>type</th>\n",
       "      <th>episodes</th>\n",
       "      <th>popularity</th>\n",
       "      <th>members</th>\n",
       "      <th>studios</th>\n",
       "      <th>source</th>\n",
       "      <th>favorites</th>\n",
       "      <th>rating</th>\n",
       "      <th>year</th>\n",
       "    </tr>\n",
       "  </thead>\n",
       "  <tbody>\n",
       "    <tr>\n",
       "      <th>0</th>\n",
       "      <td>1</td>\n",
       "      <td>cowboy bebop</td>\n",
       "      <td>8.75</td>\n",
       "      <td>41.0</td>\n",
       "      <td>action, award winning, sci-fi</td>\n",
       "      <td>crime is timeless. by the year 2071, humanity ...</td>\n",
       "      <td>tv</td>\n",
       "      <td>26.0</td>\n",
       "      <td>43</td>\n",
       "      <td>1771505</td>\n",
       "      <td>sunrise</td>\n",
       "      <td>original</td>\n",
       "      <td>78525</td>\n",
       "      <td>rated 17</td>\n",
       "      <td>1998</td>\n",
       "    </tr>\n",
       "    <tr>\n",
       "      <th>1</th>\n",
       "      <td>5</td>\n",
       "      <td>cowboy bebop: tengoku no tobira</td>\n",
       "      <td>8.38</td>\n",
       "      <td>189.0</td>\n",
       "      <td>action, sci-fi</td>\n",
       "      <td>another day, another bounty—such is the life o...</td>\n",
       "      <td>movie</td>\n",
       "      <td>1.0</td>\n",
       "      <td>602</td>\n",
       "      <td>360978</td>\n",
       "      <td>bones</td>\n",
       "      <td>original</td>\n",
       "      <td>1448</td>\n",
       "      <td>rated 17</td>\n",
       "      <td>2001</td>\n",
       "    </tr>\n",
       "    <tr>\n",
       "      <th>2</th>\n",
       "      <td>6</td>\n",
       "      <td>trigun</td>\n",
       "      <td>8.22</td>\n",
       "      <td>328.0</td>\n",
       "      <td>action, adventure, sci-fi</td>\n",
       "      <td>vash the stampede is the man with a $$60,000,0...</td>\n",
       "      <td>tv</td>\n",
       "      <td>26.0</td>\n",
       "      <td>246</td>\n",
       "      <td>727252</td>\n",
       "      <td>madhouse</td>\n",
       "      <td>manga</td>\n",
       "      <td>15035</td>\n",
       "      <td>parental guidance 13</td>\n",
       "      <td>1998</td>\n",
       "    </tr>\n",
       "    <tr>\n",
       "      <th>3</th>\n",
       "      <td>7</td>\n",
       "      <td>witch hunter robin</td>\n",
       "      <td>7.25</td>\n",
       "      <td>2764.0</td>\n",
       "      <td>action, drama, mystery, supernatural</td>\n",
       "      <td>robin sena is a powerful craft user drafted in...</td>\n",
       "      <td>tv</td>\n",
       "      <td>26.0</td>\n",
       "      <td>1795</td>\n",
       "      <td>111931</td>\n",
       "      <td>sunrise</td>\n",
       "      <td>original</td>\n",
       "      <td>613</td>\n",
       "      <td>parental guidance 13</td>\n",
       "      <td>2002</td>\n",
       "    </tr>\n",
       "    <tr>\n",
       "      <th>4</th>\n",
       "      <td>8</td>\n",
       "      <td>bouken ou beet</td>\n",
       "      <td>6.94</td>\n",
       "      <td>4240.0</td>\n",
       "      <td>adventure, fantasy, supernatural</td>\n",
       "      <td>it is the dark century and the people are suff...</td>\n",
       "      <td>tv</td>\n",
       "      <td>52.0</td>\n",
       "      <td>5126</td>\n",
       "      <td>15001</td>\n",
       "      <td>toei animation</td>\n",
       "      <td>manga</td>\n",
       "      <td>14</td>\n",
       "      <td>parental guidance</td>\n",
       "      <td>2004</td>\n",
       "    </tr>\n",
       "  </tbody>\n",
       "</table>\n",
       "</div>"
      ],
      "text/plain": [
       "   anime_id                             name  score    rank  \\\n",
       "0         1                     cowboy bebop   8.75    41.0   \n",
       "1         5  cowboy bebop: tengoku no tobira   8.38   189.0   \n",
       "2         6                           trigun   8.22   328.0   \n",
       "3         7               witch hunter robin   7.25  2764.0   \n",
       "4         8                   bouken ou beet   6.94  4240.0   \n",
       "\n",
       "                                 genres  \\\n",
       "0         action, award winning, sci-fi   \n",
       "1                        action, sci-fi   \n",
       "2             action, adventure, sci-fi   \n",
       "3  action, drama, mystery, supernatural   \n",
       "4      adventure, fantasy, supernatural   \n",
       "\n",
       "                                            synopsis   type  episodes  \\\n",
       "0  crime is timeless. by the year 2071, humanity ...     tv      26.0   \n",
       "1  another day, another bounty—such is the life o...  movie       1.0   \n",
       "2  vash the stampede is the man with a $$60,000,0...     tv      26.0   \n",
       "3  robin sena is a powerful craft user drafted in...     tv      26.0   \n",
       "4  it is the dark century and the people are suff...     tv      52.0   \n",
       "\n",
       "   popularity  members         studios    source  favorites  \\\n",
       "0          43  1771505         sunrise  original      78525   \n",
       "1         602   360978           bones  original       1448   \n",
       "2         246   727252        madhouse     manga      15035   \n",
       "3        1795   111931         sunrise  original        613   \n",
       "4        5126    15001  toei animation     manga         14   \n",
       "\n",
       "                 rating  year  \n",
       "0              rated 17  1998  \n",
       "1              rated 17  2001  \n",
       "2  parental guidance 13  1998  \n",
       "3  parental guidance 13  2002  \n",
       "4     parental guidance  2004  "
      ]
     },
     "execution_count": 3,
     "metadata": {},
     "output_type": "execute_result"
    }
   ],
   "source": [
    "anime_filtered_df.head()"
   ]
  },
  {
   "cell_type": "code",
   "execution_count": 4,
   "metadata": {},
   "outputs": [],
   "source": [
    "# Renaming our df\n",
    "anime = anime_filtered_df"
   ]
  },
  {
   "cell_type": "code",
   "execution_count": 9,
   "metadata": {},
   "outputs": [
    {
     "data": {
      "text/plain": [
       "10048"
      ]
     },
     "execution_count": 9,
     "metadata": {},
     "output_type": "execute_result"
    }
   ],
   "source": [
    "anime['anime_id'].nunique()"
   ]
  },
  {
   "cell_type": "code",
   "execution_count": 10,
   "metadata": {},
   "outputs": [],
   "source": [
    "user_clean = pd.read_csv(\"data/user_clean_processed_2.csv\")"
   ]
  },
  {
   "cell_type": "code",
   "execution_count": 11,
   "metadata": {},
   "outputs": [
    {
     "data": {
      "text/plain": [
       "1920"
      ]
     },
     "execution_count": 11,
     "metadata": {},
     "output_type": "execute_result"
    }
   ],
   "source": [
    "user_clean['anime_id'].nunique()"
   ]
  },
  {
   "cell_type": "markdown",
   "metadata": {},
   "source": [
    "Since we are using a better model now we can keep all textual data for embedding."
   ]
  },
  {
   "cell_type": "code",
   "execution_count": 14,
   "metadata": {},
   "outputs": [],
   "source": [
    "# Combine textual features\n",
    "anime['combined_text'] = (\n",
    "    anime['genres'].fillna('') + \" \" +\n",
    "    anime['name'].fillna('') + \" \" +\n",
    "    anime['synopsis'].fillna('') + \" \" +\n",
    "    anime['type'].fillna('') + \" \" +\n",
    "    anime['studios'].fillna('') + \" \" +\n",
    "    anime['rating'].fillna('')\n",
    ")"
   ]
  },
  {
   "cell_type": "code",
   "execution_count": 15,
   "metadata": {},
   "outputs": [
    {
     "data": {
      "text/html": [
       "<div>\n",
       "<style scoped>\n",
       "    .dataframe tbody tr th:only-of-type {\n",
       "        vertical-align: middle;\n",
       "    }\n",
       "\n",
       "    .dataframe tbody tr th {\n",
       "        vertical-align: top;\n",
       "    }\n",
       "\n",
       "    .dataframe thead th {\n",
       "        text-align: right;\n",
       "    }\n",
       "</style>\n",
       "<table border=\"1\" class=\"dataframe\">\n",
       "  <thead>\n",
       "    <tr style=\"text-align: right;\">\n",
       "      <th></th>\n",
       "      <th>anime_id</th>\n",
       "      <th>name</th>\n",
       "      <th>score</th>\n",
       "      <th>rank</th>\n",
       "      <th>genres</th>\n",
       "      <th>synopsis</th>\n",
       "      <th>type</th>\n",
       "      <th>episodes</th>\n",
       "      <th>popularity</th>\n",
       "      <th>members</th>\n",
       "      <th>studios</th>\n",
       "      <th>source</th>\n",
       "      <th>favorites</th>\n",
       "      <th>rating</th>\n",
       "      <th>year</th>\n",
       "      <th>combined_text</th>\n",
       "    </tr>\n",
       "  </thead>\n",
       "  <tbody>\n",
       "    <tr>\n",
       "      <th>0</th>\n",
       "      <td>1</td>\n",
       "      <td>cowboy bebop</td>\n",
       "      <td>8.75</td>\n",
       "      <td>41.0</td>\n",
       "      <td>action, award winning, sci-fi</td>\n",
       "      <td>crime is timeless. by the year 2071, humanity ...</td>\n",
       "      <td>tv</td>\n",
       "      <td>26.0</td>\n",
       "      <td>43</td>\n",
       "      <td>1771505</td>\n",
       "      <td>sunrise</td>\n",
       "      <td>original</td>\n",
       "      <td>78525</td>\n",
       "      <td>rated 17</td>\n",
       "      <td>1998</td>\n",
       "      <td>action, award winning, sci-fi cowboy bebop cri...</td>\n",
       "    </tr>\n",
       "    <tr>\n",
       "      <th>1</th>\n",
       "      <td>5</td>\n",
       "      <td>cowboy bebop: tengoku no tobira</td>\n",
       "      <td>8.38</td>\n",
       "      <td>189.0</td>\n",
       "      <td>action, sci-fi</td>\n",
       "      <td>another day, another bounty—such is the life o...</td>\n",
       "      <td>movie</td>\n",
       "      <td>1.0</td>\n",
       "      <td>602</td>\n",
       "      <td>360978</td>\n",
       "      <td>bones</td>\n",
       "      <td>original</td>\n",
       "      <td>1448</td>\n",
       "      <td>rated 17</td>\n",
       "      <td>2001</td>\n",
       "      <td>action, sci-fi cowboy bebop: tengoku no tobira...</td>\n",
       "    </tr>\n",
       "    <tr>\n",
       "      <th>2</th>\n",
       "      <td>6</td>\n",
       "      <td>trigun</td>\n",
       "      <td>8.22</td>\n",
       "      <td>328.0</td>\n",
       "      <td>action, adventure, sci-fi</td>\n",
       "      <td>vash the stampede is the man with a $$60,000,0...</td>\n",
       "      <td>tv</td>\n",
       "      <td>26.0</td>\n",
       "      <td>246</td>\n",
       "      <td>727252</td>\n",
       "      <td>madhouse</td>\n",
       "      <td>manga</td>\n",
       "      <td>15035</td>\n",
       "      <td>parental guidance 13</td>\n",
       "      <td>1998</td>\n",
       "      <td>action, adventure, sci-fi trigun vash the stam...</td>\n",
       "    </tr>\n",
       "    <tr>\n",
       "      <th>3</th>\n",
       "      <td>7</td>\n",
       "      <td>witch hunter robin</td>\n",
       "      <td>7.25</td>\n",
       "      <td>2764.0</td>\n",
       "      <td>action, drama, mystery, supernatural</td>\n",
       "      <td>robin sena is a powerful craft user drafted in...</td>\n",
       "      <td>tv</td>\n",
       "      <td>26.0</td>\n",
       "      <td>1795</td>\n",
       "      <td>111931</td>\n",
       "      <td>sunrise</td>\n",
       "      <td>original</td>\n",
       "      <td>613</td>\n",
       "      <td>parental guidance 13</td>\n",
       "      <td>2002</td>\n",
       "      <td>action, drama, mystery, supernatural witch hun...</td>\n",
       "    </tr>\n",
       "    <tr>\n",
       "      <th>4</th>\n",
       "      <td>8</td>\n",
       "      <td>bouken ou beet</td>\n",
       "      <td>6.94</td>\n",
       "      <td>4240.0</td>\n",
       "      <td>adventure, fantasy, supernatural</td>\n",
       "      <td>it is the dark century and the people are suff...</td>\n",
       "      <td>tv</td>\n",
       "      <td>52.0</td>\n",
       "      <td>5126</td>\n",
       "      <td>15001</td>\n",
       "      <td>toei animation</td>\n",
       "      <td>manga</td>\n",
       "      <td>14</td>\n",
       "      <td>parental guidance</td>\n",
       "      <td>2004</td>\n",
       "      <td>adventure, fantasy, supernatural bouken ou bee...</td>\n",
       "    </tr>\n",
       "  </tbody>\n",
       "</table>\n",
       "</div>"
      ],
      "text/plain": [
       "   anime_id                             name  score    rank  \\\n",
       "0         1                     cowboy bebop   8.75    41.0   \n",
       "1         5  cowboy bebop: tengoku no tobira   8.38   189.0   \n",
       "2         6                           trigun   8.22   328.0   \n",
       "3         7               witch hunter robin   7.25  2764.0   \n",
       "4         8                   bouken ou beet   6.94  4240.0   \n",
       "\n",
       "                                 genres  \\\n",
       "0         action, award winning, sci-fi   \n",
       "1                        action, sci-fi   \n",
       "2             action, adventure, sci-fi   \n",
       "3  action, drama, mystery, supernatural   \n",
       "4      adventure, fantasy, supernatural   \n",
       "\n",
       "                                            synopsis   type  episodes  \\\n",
       "0  crime is timeless. by the year 2071, humanity ...     tv      26.0   \n",
       "1  another day, another bounty—such is the life o...  movie       1.0   \n",
       "2  vash the stampede is the man with a $$60,000,0...     tv      26.0   \n",
       "3  robin sena is a powerful craft user drafted in...     tv      26.0   \n",
       "4  it is the dark century and the people are suff...     tv      52.0   \n",
       "\n",
       "   popularity  members         studios    source  favorites  \\\n",
       "0          43  1771505         sunrise  original      78525   \n",
       "1         602   360978           bones  original       1448   \n",
       "2         246   727252        madhouse     manga      15035   \n",
       "3        1795   111931         sunrise  original        613   \n",
       "4        5126    15001  toei animation     manga         14   \n",
       "\n",
       "                 rating  year  \\\n",
       "0              rated 17  1998   \n",
       "1              rated 17  2001   \n",
       "2  parental guidance 13  1998   \n",
       "3  parental guidance 13  2002   \n",
       "4     parental guidance  2004   \n",
       "\n",
       "                                       combined_text  \n",
       "0  action, award winning, sci-fi cowboy bebop cri...  \n",
       "1  action, sci-fi cowboy bebop: tengoku no tobira...  \n",
       "2  action, adventure, sci-fi trigun vash the stam...  \n",
       "3  action, drama, mystery, supernatural witch hun...  \n",
       "4  adventure, fantasy, supernatural bouken ou bee...  "
      ]
     },
     "execution_count": 15,
     "metadata": {},
     "output_type": "execute_result"
    }
   ],
   "source": [
    "anime.head()"
   ]
  },
  {
   "cell_type": "markdown",
   "metadata": {},
   "source": [
    "Now we will preprocess our data by removing stopwords and tokenization."
   ]
  },
  {
   "cell_type": "code",
   "execution_count": 16,
   "metadata": {},
   "outputs": [],
   "source": [
    "from nltk.corpus import stopwords\n",
    "from nltk.tokenize import word_tokenize\n",
    "import string\n",
    "import nltk"
   ]
  },
  {
   "cell_type": "code",
   "execution_count": 17,
   "metadata": {},
   "outputs": [
    {
     "name": "stderr",
     "output_type": "stream",
     "text": [
      "[nltk_data] Downloading package stopwords to\n",
      "[nltk_data]     C:\\Users\\mahmu/nltk_data...\n",
      "[nltk_data]   Package stopwords is already up-to-date!\n",
      "[nltk_data] Downloading package punkt to C:\\Users\\mahmu/nltk_data...\n",
      "[nltk_data]   Package punkt is already up-to-date!\n",
      "[nltk_data] Downloading package punkt_tab to\n",
      "[nltk_data]     C:\\Users\\mahmu/nltk_data...\n",
      "[nltk_data]   Package punkt_tab is already up-to-date!\n"
     ]
    },
    {
     "data": {
      "text/plain": [
       "True"
      ]
     },
     "execution_count": 17,
     "metadata": {},
     "output_type": "execute_result"
    }
   ],
   "source": [
    "# Download stopwords and punkt for tokenization if not already done\n",
    "nltk.download('stopwords')\n",
    "nltk.download('punkt')\n",
    "nltk.download('punkt_tab')"
   ]
  },
  {
   "cell_type": "code",
   "execution_count": 18,
   "metadata": {},
   "outputs": [],
   "source": [
    "# Preprocessing function\n",
    "def preprocess_text(text):\n",
    "    # Convert to lowercase\n",
    "    text = text.lower()\n",
    "    # Remove punctuation\n",
    "    text = text.translate(str.maketrans('', '', string.punctuation))\n",
    "    # Tokenize\n",
    "    tokens = word_tokenize(text)\n",
    "    # Remove stopwords\n",
    "    stop_words = set(stopwords.words('english'))\n",
    "    tokens = [word for word in tokens if word not in stop_words]\n",
    "    # Join back into a single string\n",
    "    return ' '.join(tokens)"
   ]
  },
  {
   "cell_type": "code",
   "execution_count": 19,
   "metadata": {},
   "outputs": [],
   "source": [
    "# Apply preprocessing to the 'combined_text' column\n",
    "anime['combined_text'] = anime['combined_text'].apply(preprocess_text)"
   ]
  },
  {
   "cell_type": "code",
   "execution_count": 41,
   "metadata": {},
   "outputs": [
    {
     "data": {
      "text/html": [
       "<div>\n",
       "<style scoped>\n",
       "    .dataframe tbody tr th:only-of-type {\n",
       "        vertical-align: middle;\n",
       "    }\n",
       "\n",
       "    .dataframe tbody tr th {\n",
       "        vertical-align: top;\n",
       "    }\n",
       "\n",
       "    .dataframe thead th {\n",
       "        text-align: right;\n",
       "    }\n",
       "</style>\n",
       "<table border=\"1\" class=\"dataframe\">\n",
       "  <thead>\n",
       "    <tr style=\"text-align: right;\">\n",
       "      <th></th>\n",
       "      <th>combined_text</th>\n",
       "    </tr>\n",
       "  </thead>\n",
       "  <tbody>\n",
       "    <tr>\n",
       "      <th>0</th>\n",
       "      <td>action award winning scifi cowboy bebop crime ...</td>\n",
       "    </tr>\n",
       "    <tr>\n",
       "      <th>1</th>\n",
       "      <td>action scifi cowboy bebop tengoku tobira anoth...</td>\n",
       "    </tr>\n",
       "    <tr>\n",
       "      <th>2</th>\n",
       "      <td>action adventure scifi trigun vash stampede ma...</td>\n",
       "    </tr>\n",
       "    <tr>\n",
       "      <th>3</th>\n",
       "      <td>action drama mystery supernatural witch hunter...</td>\n",
       "    </tr>\n",
       "    <tr>\n",
       "      <th>4</th>\n",
       "      <td>adventure fantasy supernatural bouken ou beet ...</td>\n",
       "    </tr>\n",
       "    <tr>\n",
       "      <th>...</th>\n",
       "      <td>...</td>\n",
       "    </tr>\n",
       "    <tr>\n",
       "      <th>10043</th>\n",
       "      <td>comedy kanojo okarishimasu petit special speci...</td>\n",
       "    </tr>\n",
       "    <tr>\n",
       "      <th>10044</th>\n",
       "      <td>comedy mystery li shi zhentan shiwusuo day lun...</td>\n",
       "    </tr>\n",
       "    <tr>\n",
       "      <th>10045</th>\n",
       "      <td>action adventure comedy fantasy one piece dai ...</td>\n",
       "    </tr>\n",
       "    <tr>\n",
       "      <th>10046</th>\n",
       "      <td>action comedy fantasy mashle mash burnedead fu...</td>\n",
       "    </tr>\n",
       "    <tr>\n",
       "      <th>10047</th>\n",
       "      <td>action comedy mystery li shi zhentan shiwusuo ...</td>\n",
       "    </tr>\n",
       "  </tbody>\n",
       "</table>\n",
       "<p>10048 rows × 1 columns</p>\n",
       "</div>"
      ],
      "text/plain": [
       "                                           combined_text\n",
       "0      action award winning scifi cowboy bebop crime ...\n",
       "1      action scifi cowboy bebop tengoku tobira anoth...\n",
       "2      action adventure scifi trigun vash stampede ma...\n",
       "3      action drama mystery supernatural witch hunter...\n",
       "4      adventure fantasy supernatural bouken ou beet ...\n",
       "...                                                  ...\n",
       "10043  comedy kanojo okarishimasu petit special speci...\n",
       "10044  comedy mystery li shi zhentan shiwusuo day lun...\n",
       "10045  action adventure comedy fantasy one piece dai ...\n",
       "10046  action comedy fantasy mashle mash burnedead fu...\n",
       "10047  action comedy mystery li shi zhentan shiwusuo ...\n",
       "\n",
       "[10048 rows x 1 columns]"
      ]
     },
     "execution_count": 41,
     "metadata": {},
     "output_type": "execute_result"
    }
   ],
   "source": [
    "anime[['combined_text']]"
   ]
  },
  {
   "cell_type": "markdown",
   "metadata": {},
   "source": [
    "We will use a pre-trained Sentence Transformer model in this run to convert the combined_text into dense embeddings. Then, we will scale year to a comparable range (using Min-Max scaling). And we will combine the dense embeddings from Sentence Transformers with the scaled year feature."
   ]
  },
  {
   "cell_type": "code",
   "execution_count": 12,
   "metadata": {},
   "outputs": [],
   "source": [
    "from sentence_transformers import SentenceTransformer\n",
    "import pandas as pd\n",
    "import numpy as np\n",
    "from sklearn.preprocessing import MinMaxScaler"
   ]
  },
  {
   "cell_type": "code",
   "execution_count": 13,
   "metadata": {},
   "outputs": [
    {
     "data": {
      "application/vnd.jupyter.widget-view+json": {
       "model_id": "13cac248613943759f40e9152f5d29de",
       "version_major": 2,
       "version_minor": 0
      },
      "text/plain": [
       "modules.json:   0%|          | 0.00/349 [00:00<?, ?B/s]"
      ]
     },
     "metadata": {},
     "output_type": "display_data"
    },
    {
     "name": "stderr",
     "output_type": "stream",
     "text": [
      "c:\\Users\\mahmu\\anaconda3\\Lib\\site-packages\\huggingface_hub\\file_download.py:159: UserWarning: `huggingface_hub` cache-system uses symlinks by default to efficiently store duplicated files but your machine does not support them in C:\\Users\\mahmu\\.cache\\huggingface\\hub\\models--sentence-transformers--all-MiniLM-L6-v2. Caching files will still work but in a degraded version that might require more space on your disk. This warning can be disabled by setting the `HF_HUB_DISABLE_SYMLINKS_WARNING` environment variable. For more details, see https://huggingface.co/docs/huggingface_hub/how-to-cache#limitations.\n",
      "To support symlinks on Windows, you either need to activate Developer Mode or to run Python as an administrator. In order to see activate developer mode, see this article: https://docs.microsoft.com/en-us/windows/apps/get-started/enable-your-device-for-development\n",
      "  warnings.warn(message)\n"
     ]
    },
    {
     "data": {
      "application/vnd.jupyter.widget-view+json": {
       "model_id": "7e6d66196b3b49a3963de16c6ed34f71",
       "version_major": 2,
       "version_minor": 0
      },
      "text/plain": [
       "config_sentence_transformers.json:   0%|          | 0.00/116 [00:00<?, ?B/s]"
      ]
     },
     "metadata": {},
     "output_type": "display_data"
    },
    {
     "data": {
      "application/vnd.jupyter.widget-view+json": {
       "model_id": "8a6b0d4d12c444eaa33051d406f9a390",
       "version_major": 2,
       "version_minor": 0
      },
      "text/plain": [
       "README.md:   0%|          | 0.00/10.7k [00:00<?, ?B/s]"
      ]
     },
     "metadata": {},
     "output_type": "display_data"
    },
    {
     "data": {
      "application/vnd.jupyter.widget-view+json": {
       "model_id": "ced0b62084ed4b4ba0c054a68faff2b3",
       "version_major": 2,
       "version_minor": 0
      },
      "text/plain": [
       "sentence_bert_config.json:   0%|          | 0.00/53.0 [00:00<?, ?B/s]"
      ]
     },
     "metadata": {},
     "output_type": "display_data"
    },
    {
     "data": {
      "application/vnd.jupyter.widget-view+json": {
       "model_id": "daae232923a445dc953fbef483666e7a",
       "version_major": 2,
       "version_minor": 0
      },
      "text/plain": [
       "config.json:   0%|          | 0.00/612 [00:00<?, ?B/s]"
      ]
     },
     "metadata": {},
     "output_type": "display_data"
    },
    {
     "data": {
      "application/vnd.jupyter.widget-view+json": {
       "model_id": "6c2c61d9d27641f2ab1b43d2b807cd92",
       "version_major": 2,
       "version_minor": 0
      },
      "text/plain": [
       "model.safetensors:   0%|          | 0.00/90.9M [00:00<?, ?B/s]"
      ]
     },
     "metadata": {},
     "output_type": "display_data"
    },
    {
     "data": {
      "application/vnd.jupyter.widget-view+json": {
       "model_id": "023592568e1b463bb8ce7e0ad21417a7",
       "version_major": 2,
       "version_minor": 0
      },
      "text/plain": [
       "tokenizer_config.json:   0%|          | 0.00/350 [00:00<?, ?B/s]"
      ]
     },
     "metadata": {},
     "output_type": "display_data"
    },
    {
     "data": {
      "application/vnd.jupyter.widget-view+json": {
       "model_id": "2c79db853ca243d5840c5009ab35193a",
       "version_major": 2,
       "version_minor": 0
      },
      "text/plain": [
       "vocab.txt:   0%|          | 0.00/232k [00:00<?, ?B/s]"
      ]
     },
     "metadata": {},
     "output_type": "display_data"
    },
    {
     "data": {
      "application/vnd.jupyter.widget-view+json": {
       "model_id": "0ed5c2f7cdce43dea42150d7ae829917",
       "version_major": 2,
       "version_minor": 0
      },
      "text/plain": [
       "tokenizer.json:   0%|          | 0.00/466k [00:00<?, ?B/s]"
      ]
     },
     "metadata": {},
     "output_type": "display_data"
    },
    {
     "data": {
      "application/vnd.jupyter.widget-view+json": {
       "model_id": "bc8b2ba01f28411a8ca01433a52ce667",
       "version_major": 2,
       "version_minor": 0
      },
      "text/plain": [
       "special_tokens_map.json:   0%|          | 0.00/112 [00:00<?, ?B/s]"
      ]
     },
     "metadata": {},
     "output_type": "display_data"
    },
    {
     "data": {
      "application/vnd.jupyter.widget-view+json": {
       "model_id": "79fe3b053bba4246af7774d8da9b17c9",
       "version_major": 2,
       "version_minor": 0
      },
      "text/plain": [
       "1_Pooling/config.json:   0%|          | 0.00/190 [00:00<?, ?B/s]"
      ]
     },
     "metadata": {},
     "output_type": "display_data"
    }
   ],
   "source": [
    "# Load the Sentence Transformer model\n",
    "model = SentenceTransformer('all-MiniLM-L6-v2')"
   ]
  },
  {
   "cell_type": "code",
   "execution_count": null,
   "metadata": {},
   "outputs": [
    {
     "name": "stdout",
     "output_type": "stream",
     "text": [
      "Encoding text with Sentence Transformer...\n"
     ]
    },
    {
     "data": {
      "application/vnd.jupyter.widget-view+json": {
       "model_id": "acc9c53c991445418e254705ed67c921",
       "version_major": 2,
       "version_minor": 0
      },
      "text/plain": [
       "Batches:   0%|          | 0/314 [00:00<?, ?it/s]"
      ]
     },
     "metadata": {},
     "output_type": "display_data"
    }
   ],
   "source": [
    "# Encode the text into embeddings\n",
    "text_embeddings = model.encode(anime['combined_text'], show_progress_bar=True)"
   ]
  },
  {
   "cell_type": "code",
   "execution_count": 22,
   "metadata": {},
   "outputs": [],
   "source": [
    "# Normalize the 'year' feature\n",
    "scaler = MinMaxScaler()\n",
    "anime['year_scaled'] = scaler.fit_transform(anime[['year']]) "
   ]
  },
  {
   "cell_type": "code",
   "execution_count": 23,
   "metadata": {},
   "outputs": [],
   "source": [
    "# Convert the scaled 'year' column to a NumPy array\n",
    "year_feature = anime['year_scaled'].values.reshape(-1, 1)"
   ]
  },
  {
   "cell_type": "code",
   "execution_count": 24,
   "metadata": {},
   "outputs": [],
   "source": [
    "# Concatenate the embeddings with the year feature\n",
    "final_features = np.hstack([text_embeddings, year_feature])"
   ]
  },
  {
   "cell_type": "code",
   "execution_count": 25,
   "metadata": {},
   "outputs": [
    {
     "name": "stdout",
     "output_type": "stream",
     "text": [
      "Final features shape: (10048, 385)\n"
     ]
    }
   ],
   "source": [
    "# Check the shape of the final combined features\n",
    "print(f\"Final features shape: {final_features.shape}\")"
   ]
  },
  {
   "cell_type": "code",
   "execution_count": 27,
   "metadata": {},
   "outputs": [],
   "source": [
    "# Save the final features for later use\n",
    "np.save(\"data/final_features_st.npy\", final_features)"
   ]
  },
  {
   "cell_type": "markdown",
   "metadata": {},
   "source": [
    "Now we can compute cosine similarity."
   ]
  },
  {
   "cell_type": "code",
   "execution_count": 28,
   "metadata": {},
   "outputs": [],
   "source": [
    "from sklearn.metrics.pairwise import cosine_similarity\n",
    "import numpy as np"
   ]
  },
  {
   "cell_type": "code",
   "execution_count": 29,
   "metadata": {},
   "outputs": [],
   "source": [
    "# Load the combined features\n",
    "final_features = np.load(\"data/final_features_st.npy\")"
   ]
  },
  {
   "cell_type": "code",
   "execution_count": null,
   "metadata": {},
   "outputs": [
    {
     "name": "stdout",
     "output_type": "stream",
     "text": [
      "Computing cosine similarity...\n"
     ]
    }
   ],
   "source": [
    "# Compute the cosine similarity matrix\n",
    "cosine_sim_matrix = cosine_similarity(final_features)"
   ]
  },
  {
   "cell_type": "code",
   "execution_count": 31,
   "metadata": {},
   "outputs": [],
   "source": [
    "# Save the cosine similarity matrix for later use\n",
    "np.save(\"data/cosine_sim_st.npy\", cosine_sim_matrix)"
   ]
  },
  {
   "cell_type": "code",
   "execution_count": 33,
   "metadata": {},
   "outputs": [],
   "source": [
    "# Load the cosine similarity matrix\n",
    "cosine_sim_matrix = np.load(\"data/cosine_sim_st.npy\")"
   ]
  },
  {
   "cell_type": "markdown",
   "metadata": {},
   "source": [
    "Now we can make a recommendation function and try it out."
   ]
  },
  {
   "cell_type": "code",
   "execution_count": null,
   "metadata": {},
   "outputs": [],
   "source": [
    "def get_recommendations_by_id(anime_id, anime_df, cosine_sim, top_n=10):\n",
    "    try:\n",
    "        # Get the index of the anime that matches the anime id\n",
    "        idx = anime_df[anime_df['anime_id'] == anime_id].index[0]\n",
    "    except IndexError:\n",
    "        raise ValueError(f\"Anime ID {anime_id} not found in the dataset.\")\n",
    "    \n",
    "    # Get the pairwise similarity scores for this anime\n",
    "    sim_scores = list(enumerate(cosine_sim[idx]))\n",
    "\n",
    "    # Sort the anime based on the similarity scores in descending order\n",
    "    sim_scores = sorted(sim_scores, key=lambda x: x[1], reverse=True)\n",
    "\n",
    "    # Get the indices of the top N similar anime\n",
    "    top_indices = [i[0] for i in sim_scores[1:top_n+1]]\n",
    "\n",
    "    # Retrieve the recommended anime\n",
    "    recommendations = anime_df.iloc[top_indices][['anime_id', 'name', 'genres', 'year', 'studios']].copy()\n",
    "    recommendations['similarity_score'] = [sim_scores[i][1] for i in range(1, top_n+1)]\n",
    "    \n",
    "    return recommendations"
   ]
  },
  {
   "cell_type": "code",
   "execution_count": null,
   "metadata": {},
   "outputs": [
    {
     "data": {
      "text/html": [
       "<div>\n",
       "<style scoped>\n",
       "    .dataframe tbody tr th:only-of-type {\n",
       "        vertical-align: middle;\n",
       "    }\n",
       "\n",
       "    .dataframe tbody tr th {\n",
       "        vertical-align: top;\n",
       "    }\n",
       "\n",
       "    .dataframe thead th {\n",
       "        text-align: right;\n",
       "    }\n",
       "</style>\n",
       "<table border=\"1\" class=\"dataframe\">\n",
       "  <thead>\n",
       "    <tr style=\"text-align: right;\">\n",
       "      <th></th>\n",
       "      <th>anime_id</th>\n",
       "      <th>name</th>\n",
       "      <th>genres</th>\n",
       "      <th>year</th>\n",
       "      <th>studios</th>\n",
       "      <th>similarity_score</th>\n",
       "    </tr>\n",
       "  </thead>\n",
       "  <tbody>\n",
       "    <tr>\n",
       "      <th>1</th>\n",
       "      <td>5</td>\n",
       "      <td>cowboy bebop: tengoku no tobira</td>\n",
       "      <td>action, sci-fi</td>\n",
       "      <td>2001</td>\n",
       "      <td>bones</td>\n",
       "      <td>0.803224</td>\n",
       "    </tr>\n",
       "    <tr>\n",
       "      <th>1810</th>\n",
       "      <td>2158</td>\n",
       "      <td>terra e... (tv)</td>\n",
       "      <td>action, drama, sci-fi</td>\n",
       "      <td>2007</td>\n",
       "      <td>tokyo kids, minami machi bugyousho</td>\n",
       "      <td>0.777441</td>\n",
       "    </tr>\n",
       "    <tr>\n",
       "      <th>363</th>\n",
       "      <td>400</td>\n",
       "      <td>seihou bukyou outlaw star</td>\n",
       "      <td>action, adventure, comedy, sci-fi</td>\n",
       "      <td>1998</td>\n",
       "      <td>sunrise</td>\n",
       "      <td>0.748444</td>\n",
       "    </tr>\n",
       "    <tr>\n",
       "      <th>3098</th>\n",
       "      <td>5074</td>\n",
       "      <td>tetsuwan birdy decode:02</td>\n",
       "      <td>action, comedy, sci-fi</td>\n",
       "      <td>2009</td>\n",
       "      <td>a-1 pictures</td>\n",
       "      <td>0.746236</td>\n",
       "    </tr>\n",
       "    <tr>\n",
       "      <th>1674</th>\n",
       "      <td>2001</td>\n",
       "      <td>tengen toppa gurren lagann</td>\n",
       "      <td>action, adventure, award winning, sci-fi</td>\n",
       "      <td>2007</td>\n",
       "      <td>gainax</td>\n",
       "      <td>0.745735</td>\n",
       "    </tr>\n",
       "    <tr>\n",
       "      <th>2796</th>\n",
       "      <td>4037</td>\n",
       "      <td>cowboy bebop: yose atsume blues</td>\n",
       "      <td>sci-fi</td>\n",
       "      <td>1998</td>\n",
       "      <td>sunrise</td>\n",
       "      <td>0.745614</td>\n",
       "    </tr>\n",
       "    <tr>\n",
       "      <th>839</th>\n",
       "      <td>974</td>\n",
       "      <td>dead leaves</td>\n",
       "      <td>action, comedy, sci-fi</td>\n",
       "      <td>2004</td>\n",
       "      <td>production i.g</td>\n",
       "      <td>0.744082</td>\n",
       "    </tr>\n",
       "    <tr>\n",
       "      <th>8016</th>\n",
       "      <td>37578</td>\n",
       "      <td>planet with</td>\n",
       "      <td>action, sci-fi</td>\n",
       "      <td>2018</td>\n",
       "      <td>j.c.staff</td>\n",
       "      <td>0.739390</td>\n",
       "    </tr>\n",
       "    <tr>\n",
       "      <th>5252</th>\n",
       "      <td>17205</td>\n",
       "      <td>cowboy bebop: ein no natsuyasumi</td>\n",
       "      <td>comedy</td>\n",
       "      <td>2012</td>\n",
       "      <td>sunrise</td>\n",
       "      <td>0.738221</td>\n",
       "    </tr>\n",
       "    <tr>\n",
       "      <th>9354</th>\n",
       "      <td>48453</td>\n",
       "      <td>super crooks</td>\n",
       "      <td>action, drama, suspense</td>\n",
       "      <td>2021</td>\n",
       "      <td>bones</td>\n",
       "      <td>0.737716</td>\n",
       "    </tr>\n",
       "  </tbody>\n",
       "</table>\n",
       "</div>"
      ],
      "text/plain": [
       "      anime_id                              name  \\\n",
       "1            5   cowboy bebop: tengoku no tobira   \n",
       "1810      2158                   terra e... (tv)   \n",
       "363        400         seihou bukyou outlaw star   \n",
       "3098      5074          tetsuwan birdy decode:02   \n",
       "1674      2001        tengen toppa gurren lagann   \n",
       "2796      4037   cowboy bebop: yose atsume blues   \n",
       "839        974                       dead leaves   \n",
       "8016     37578                       planet with   \n",
       "5252     17205  cowboy bebop: ein no natsuyasumi   \n",
       "9354     48453                      super crooks   \n",
       "\n",
       "                                        genres  year  \\\n",
       "1                               action, sci-fi  2001   \n",
       "1810                     action, drama, sci-fi  2007   \n",
       "363          action, adventure, comedy, sci-fi  1998   \n",
       "3098                    action, comedy, sci-fi  2009   \n",
       "1674  action, adventure, award winning, sci-fi  2007   \n",
       "2796                                    sci-fi  1998   \n",
       "839                     action, comedy, sci-fi  2004   \n",
       "8016                            action, sci-fi  2018   \n",
       "5252                                    comedy  2012   \n",
       "9354                   action, drama, suspense  2021   \n",
       "\n",
       "                                 studios  similarity_score  \n",
       "1                                  bones          0.803224  \n",
       "1810  tokyo kids, minami machi bugyousho          0.777441  \n",
       "363                              sunrise          0.748444  \n",
       "3098                        a-1 pictures          0.746236  \n",
       "1674                              gainax          0.745735  \n",
       "2796                             sunrise          0.745614  \n",
       "839                       production i.g          0.744082  \n",
       "8016                           j.c.staff          0.739390  \n",
       "5252                             sunrise          0.738221  \n",
       "9354                               bones          0.737716  "
      ]
     },
     "execution_count": 38,
     "metadata": {},
     "output_type": "execute_result"
    }
   ],
   "source": [
    "# Get recommendations by anime_id\n",
    "anime_id = 1  # Trying out 'Cowboy Bebop'\n",
    "recommendations = get_recommendations_by_id(anime_id, anime, cosine_sim_matrix, top_n=10)\n",
    "\n",
    "recommendations"
   ]
  },
  {
   "cell_type": "markdown",
   "metadata": {},
   "source": [
    "We are getting excellent results with this model, we will use this one for our hybrid recommendation. We do not even have to balance it out unlike previous models.\n",
    "| Name                             | Genres                                      | Similarity Score |\n",
    "|----------------------------------|---------------------------------------------|------------------|\n",
    "| Cowboy Bebop: Tengoku no Tobira  | Action, Sci-Fi                              | 0.803224         |\n",
    "| Terra e... (TV)                  | Action, Drama, Sci-Fi                       | 0.777441         |\n",
    "| Seihou Bukyou Outlaw Star        | Action, Adventure, Comedy, Sci-Fi           | 0.748444         |\n",
    "| Tetsuwan Birdy Decode:02         | Action, Comedy, Sci-Fi                      | 0.746236         |\n",
    "| Tengen Toppa Gurren Lagann       | Action, Adventure, Award Winning, Sci-Fi    | 0.745735         |\n",
    "| Cowboy Bebop: Yose Atsume Blues  | Sci-Fi                                      | 0.745614         |\n",
    "| Dead Leaves                      | Action, Comedy, Sci-Fi                      | 0.744082         |\n",
    "| Planet With                      | Action, Sci-Fi                              | 0.739390         |\n",
    "| Cowboy Bebop: Ein no Natsuyasumi | Comedy                                      | 0.738221         |\n",
    "| Super Crooks                     | Action, Drama, Suspense                     | 0.737716         |\n"
   ]
  },
  {
   "cell_type": "markdown",
   "metadata": {},
   "source": [
    "Our previous model run was not good at all, we had to introduce weight for popularity, score and rank to make it relevant.\n",
    "\n",
    "| Name                                     | Genres                                | Similarity Score |\n",
    "|------------------------------------------|---------------------------------------|------------------|\n",
    "| Tetsujin 28-gou                          | Adventure, Sci-Fi                     | 0.638336         |\n",
    "| Kumo to Tulip                            | Adventure                             | 0.636089         |\n",
    "| Fuku-chan no Sensuikan                   | Comedy                                | 0.634850         |\n",
    "| Wonder 3                                 | Action, Adventure, Comedy, Sci-Fi     | 0.632865         |\n",
    "| Wan Wan Chuushingura                     | Action, Adventure, Drama, Fantasy     | 0.632822         |\n",
    "| Momotarou: Umi no Shinpei                | Action                                | 0.632235         |\n",
    "| Obake no Q-Tarou                         | Comedy, Slice of Life, Supernatural   | 0.631495         |\n",
    "| Eightman                                 | Action, Drama, Sci-Fi                 | 0.630711         |\n",
    "| Tetsuwan Atom: Uchuu no Yuusha           | Action, Adventure, Drama, Sci-Fi      | 0.630436         |\n",
    "| Arabian Night: Sindbad no Bouken         | Action, Adventure, Fantasy            | 0.629994         |\n"
   ]
  },
  {
   "cell_type": "markdown",
   "metadata": {},
   "source": [
    "Even after weighted adjusted using popularity, score and rank, its still not as good as our current model.\n",
    "\n",
    "| Name                          | Genres                                      | Popularity | Score | Rank  | Weighted Score | Similarity Score |\n",
    "|-------------------------------|---------------------------------------------|------------|-------|-------|----------------|------------------|\n",
    "| Ginga Eiyuu Densetsu          | Drama, Sci-Fi                              | 728        | 9.02  | 12.0  | 0.424677       | 0.571545         |\n",
    "| Ashita no Joe 2               | Drama, Sports                              | 2971       | 8.71  | 50.0  | 0.416602       | 0.596032         |\n",
    "| Ashita no Joe                 | Drama, Sports                              | 2138       | 8.29  | 251.0 | 0.414423       | 0.619340         |\n",
    "| Versailles no Bara            | Drama, Romance                             | 2036       | 8.33  | 220.0 | 0.407327       | 0.599311         |\n",
    "| Mirai Shounen Conan           | Adventure, Drama, Sci-Fi                   | 2978       | 8.10  | 463.0 | 0.405780       | 0.608205         |\n",
    "| Lupin III: Cagliostro no Shiro| Action, Adventure, Award Winning, Comedy, Mystery | 1807 | 8.15  | 409.0 | 0.405377       | 0.604446         |\n",
    "| Kaze no Tani no Nausicaä      | Adventure, Award Winning, Fantasy          | 611        | 8.36  | 197.0 | 0.404715       | 0.590445         |\n",
    "| Uchuu Senkan Yamato           | Action, Adventure, Award Winning, Drama, Sci-Fi | 3976 | 7.59  | 1413.0| 0.401975       | 0.624959         |\n",
    "| Lupin III                     | Action, Adventure, Comedy, Mystery         | 1948       | 7.63  | 1296.0| 0.401710       | 0.622134         |\n",
    "| Tenkuu no Shiro Laputa        | Adventure, Award Winning, Fantasy, Romance, Sci-Fi | 451 | 8.26  | 286.0 | 0.401172       | 0.587081         |\n"
   ]
  },
  {
   "cell_type": "markdown",
   "metadata": {},
   "source": [
    "Saving items:"
   ]
  },
  {
   "cell_type": "code",
   "execution_count": 39,
   "metadata": {},
   "outputs": [],
   "source": [
    "anime.to_csv(\"data/anime_filtered_processed_st.csv\", index=False)"
   ]
  }
 ],
 "metadata": {
  "kernelspec": {
   "display_name": "base",
   "language": "python",
   "name": "python3"
  },
  "language_info": {
   "codemirror_mode": {
    "name": "ipython",
    "version": 3
   },
   "file_extension": ".py",
   "mimetype": "text/x-python",
   "name": "python",
   "nbconvert_exporter": "python",
   "pygments_lexer": "ipython3",
   "version": "3.12.4"
  }
 },
 "nbformat": 4,
 "nbformat_minor": 2
}
