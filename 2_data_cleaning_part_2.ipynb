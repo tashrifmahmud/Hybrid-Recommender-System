{
 "cells": [
  {
   "cell_type": "markdown",
   "metadata": {},
   "source": [
    "Now we will clean user-score-2023 dataset, there are a lot of irrelevant data that will have to be cleaned in this step."
   ]
  },
  {
   "cell_type": "code",
   "execution_count": 1,
   "metadata": {},
   "outputs": [],
   "source": [
    "import pandas as pd"
   ]
  },
  {
   "cell_type": "code",
   "execution_count": 5,
   "metadata": {},
   "outputs": [],
   "source": [
    "# We will use this filtered anime data to keep relevant user data\n",
    "anime_filtered_df = pd.read_csv(\"data/anime_filtered.csv\")"
   ]
  },
  {
   "cell_type": "code",
   "execution_count": 3,
   "metadata": {},
   "outputs": [
    {
     "data": {
      "text/html": [
       "<div>\n",
       "<style scoped>\n",
       "    .dataframe tbody tr th:only-of-type {\n",
       "        vertical-align: middle;\n",
       "    }\n",
       "\n",
       "    .dataframe tbody tr th {\n",
       "        vertical-align: top;\n",
       "    }\n",
       "\n",
       "    .dataframe thead th {\n",
       "        text-align: right;\n",
       "    }\n",
       "</style>\n",
       "<table border=\"1\" class=\"dataframe\">\n",
       "  <thead>\n",
       "    <tr style=\"text-align: right;\">\n",
       "      <th></th>\n",
       "      <th>anime_id</th>\n",
       "      <th>name</th>\n",
       "      <th>score</th>\n",
       "      <th>rank</th>\n",
       "      <th>genres</th>\n",
       "      <th>synopsis</th>\n",
       "      <th>type</th>\n",
       "      <th>episodes</th>\n",
       "      <th>popularity</th>\n",
       "      <th>members</th>\n",
       "      <th>studios</th>\n",
       "      <th>source</th>\n",
       "      <th>favorites</th>\n",
       "      <th>rating</th>\n",
       "      <th>year</th>\n",
       "    </tr>\n",
       "  </thead>\n",
       "  <tbody>\n",
       "    <tr>\n",
       "      <th>0</th>\n",
       "      <td>1</td>\n",
       "      <td>cowboy bebop</td>\n",
       "      <td>8.75</td>\n",
       "      <td>41.0</td>\n",
       "      <td>action, award winning, sci-fi</td>\n",
       "      <td>crime is timeless. by the year 2071, humanity ...</td>\n",
       "      <td>tv</td>\n",
       "      <td>26.0</td>\n",
       "      <td>43</td>\n",
       "      <td>1771505</td>\n",
       "      <td>sunrise</td>\n",
       "      <td>original</td>\n",
       "      <td>78525</td>\n",
       "      <td>rated 17</td>\n",
       "      <td>1998</td>\n",
       "    </tr>\n",
       "    <tr>\n",
       "      <th>1</th>\n",
       "      <td>5</td>\n",
       "      <td>cowboy bebop: tengoku no tobira</td>\n",
       "      <td>8.38</td>\n",
       "      <td>189.0</td>\n",
       "      <td>action, sci-fi</td>\n",
       "      <td>another day, another bounty—such is the life o...</td>\n",
       "      <td>movie</td>\n",
       "      <td>1.0</td>\n",
       "      <td>602</td>\n",
       "      <td>360978</td>\n",
       "      <td>bones</td>\n",
       "      <td>original</td>\n",
       "      <td>1448</td>\n",
       "      <td>rated 17</td>\n",
       "      <td>2001</td>\n",
       "    </tr>\n",
       "    <tr>\n",
       "      <th>2</th>\n",
       "      <td>6</td>\n",
       "      <td>trigun</td>\n",
       "      <td>8.22</td>\n",
       "      <td>328.0</td>\n",
       "      <td>action, adventure, sci-fi</td>\n",
       "      <td>vash the stampede is the man with a $$60,000,0...</td>\n",
       "      <td>tv</td>\n",
       "      <td>26.0</td>\n",
       "      <td>246</td>\n",
       "      <td>727252</td>\n",
       "      <td>madhouse</td>\n",
       "      <td>manga</td>\n",
       "      <td>15035</td>\n",
       "      <td>parental guidance 13</td>\n",
       "      <td>1998</td>\n",
       "    </tr>\n",
       "    <tr>\n",
       "      <th>3</th>\n",
       "      <td>7</td>\n",
       "      <td>witch hunter robin</td>\n",
       "      <td>7.25</td>\n",
       "      <td>2764.0</td>\n",
       "      <td>action, drama, mystery, supernatural</td>\n",
       "      <td>robin sena is a powerful craft user drafted in...</td>\n",
       "      <td>tv</td>\n",
       "      <td>26.0</td>\n",
       "      <td>1795</td>\n",
       "      <td>111931</td>\n",
       "      <td>sunrise</td>\n",
       "      <td>original</td>\n",
       "      <td>613</td>\n",
       "      <td>parental guidance 13</td>\n",
       "      <td>2002</td>\n",
       "    </tr>\n",
       "    <tr>\n",
       "      <th>4</th>\n",
       "      <td>8</td>\n",
       "      <td>bouken ou beet</td>\n",
       "      <td>6.94</td>\n",
       "      <td>4240.0</td>\n",
       "      <td>adventure, fantasy, supernatural</td>\n",
       "      <td>it is the dark century and the people are suff...</td>\n",
       "      <td>tv</td>\n",
       "      <td>52.0</td>\n",
       "      <td>5126</td>\n",
       "      <td>15001</td>\n",
       "      <td>toei animation</td>\n",
       "      <td>manga</td>\n",
       "      <td>14</td>\n",
       "      <td>parental guidance</td>\n",
       "      <td>2004</td>\n",
       "    </tr>\n",
       "  </tbody>\n",
       "</table>\n",
       "</div>"
      ],
      "text/plain": [
       "   anime_id                             name  score    rank  \\\n",
       "0         1                     cowboy bebop   8.75    41.0   \n",
       "1         5  cowboy bebop: tengoku no tobira   8.38   189.0   \n",
       "2         6                           trigun   8.22   328.0   \n",
       "3         7               witch hunter robin   7.25  2764.0   \n",
       "4         8                   bouken ou beet   6.94  4240.0   \n",
       "\n",
       "                                 genres  \\\n",
       "0         action, award winning, sci-fi   \n",
       "1                        action, sci-fi   \n",
       "2             action, adventure, sci-fi   \n",
       "3  action, drama, mystery, supernatural   \n",
       "4      adventure, fantasy, supernatural   \n",
       "\n",
       "                                            synopsis   type  episodes  \\\n",
       "0  crime is timeless. by the year 2071, humanity ...     tv      26.0   \n",
       "1  another day, another bounty—such is the life o...  movie       1.0   \n",
       "2  vash the stampede is the man with a $$60,000,0...     tv      26.0   \n",
       "3  robin sena is a powerful craft user drafted in...     tv      26.0   \n",
       "4  it is the dark century and the people are suff...     tv      52.0   \n",
       "\n",
       "   popularity  members         studios    source  favorites  \\\n",
       "0          43  1771505         sunrise  original      78525   \n",
       "1         602   360978           bones  original       1448   \n",
       "2         246   727252        madhouse     manga      15035   \n",
       "3        1795   111931         sunrise  original        613   \n",
       "4        5126    15001  toei animation     manga         14   \n",
       "\n",
       "                 rating  year  \n",
       "0              rated 17  1998  \n",
       "1              rated 17  2001  \n",
       "2  parental guidance 13  1998  \n",
       "3  parental guidance 13  2002  \n",
       "4     parental guidance  2004  "
      ]
     },
     "execution_count": 3,
     "metadata": {},
     "output_type": "execute_result"
    }
   ],
   "source": [
    "anime_filtered_df.head()"
   ]
  },
  {
   "cell_type": "code",
   "execution_count": 4,
   "metadata": {},
   "outputs": [],
   "source": [
    "# We start with loading user data\n",
    "user = pd.read_csv(\"archive/users-score-2023.csv\")"
   ]
  },
  {
   "cell_type": "code",
   "execution_count": 6,
   "metadata": {},
   "outputs": [
    {
     "data": {
      "text/html": [
       "<div>\n",
       "<style scoped>\n",
       "    .dataframe tbody tr th:only-of-type {\n",
       "        vertical-align: middle;\n",
       "    }\n",
       "\n",
       "    .dataframe tbody tr th {\n",
       "        vertical-align: top;\n",
       "    }\n",
       "\n",
       "    .dataframe thead th {\n",
       "        text-align: right;\n",
       "    }\n",
       "</style>\n",
       "<table border=\"1\" class=\"dataframe\">\n",
       "  <thead>\n",
       "    <tr style=\"text-align: right;\">\n",
       "      <th></th>\n",
       "      <th>user_id</th>\n",
       "      <th>Username</th>\n",
       "      <th>anime_id</th>\n",
       "      <th>Anime Title</th>\n",
       "      <th>rating</th>\n",
       "    </tr>\n",
       "  </thead>\n",
       "  <tbody>\n",
       "    <tr>\n",
       "      <th>0</th>\n",
       "      <td>1</td>\n",
       "      <td>Xinil</td>\n",
       "      <td>21</td>\n",
       "      <td>One Piece</td>\n",
       "      <td>9</td>\n",
       "    </tr>\n",
       "    <tr>\n",
       "      <th>1</th>\n",
       "      <td>1</td>\n",
       "      <td>Xinil</td>\n",
       "      <td>48</td>\n",
       "      <td>.hack//Sign</td>\n",
       "      <td>7</td>\n",
       "    </tr>\n",
       "    <tr>\n",
       "      <th>2</th>\n",
       "      <td>1</td>\n",
       "      <td>Xinil</td>\n",
       "      <td>320</td>\n",
       "      <td>A Kite</td>\n",
       "      <td>5</td>\n",
       "    </tr>\n",
       "    <tr>\n",
       "      <th>3</th>\n",
       "      <td>1</td>\n",
       "      <td>Xinil</td>\n",
       "      <td>49</td>\n",
       "      <td>Aa! Megami-sama!</td>\n",
       "      <td>8</td>\n",
       "    </tr>\n",
       "    <tr>\n",
       "      <th>4</th>\n",
       "      <td>1</td>\n",
       "      <td>Xinil</td>\n",
       "      <td>304</td>\n",
       "      <td>Aa! Megami-sama! Movie</td>\n",
       "      <td>8</td>\n",
       "    </tr>\n",
       "    <tr>\n",
       "      <th>...</th>\n",
       "      <td>...</td>\n",
       "      <td>...</td>\n",
       "      <td>...</td>\n",
       "      <td>...</td>\n",
       "      <td>...</td>\n",
       "    </tr>\n",
       "    <tr>\n",
       "      <th>24325186</th>\n",
       "      <td>1291087</td>\n",
       "      <td>Oblongata</td>\n",
       "      <td>10611</td>\n",
       "      <td>R-15</td>\n",
       "      <td>3</td>\n",
       "    </tr>\n",
       "    <tr>\n",
       "      <th>24325187</th>\n",
       "      <td>1291087</td>\n",
       "      <td>Oblongata</td>\n",
       "      <td>174</td>\n",
       "      <td>Tenjou Tenge</td>\n",
       "      <td>6</td>\n",
       "    </tr>\n",
       "    <tr>\n",
       "      <th>24325188</th>\n",
       "      <td>1291097</td>\n",
       "      <td>JuunanaSai</td>\n",
       "      <td>1535</td>\n",
       "      <td>Death Note</td>\n",
       "      <td>9</td>\n",
       "    </tr>\n",
       "    <tr>\n",
       "      <th>24325189</th>\n",
       "      <td>1291097</td>\n",
       "      <td>JuunanaSai</td>\n",
       "      <td>226</td>\n",
       "      <td>Elfen Lied</td>\n",
       "      <td>10</td>\n",
       "    </tr>\n",
       "    <tr>\n",
       "      <th>24325190</th>\n",
       "      <td>1291097</td>\n",
       "      <td>JuunanaSai</td>\n",
       "      <td>8425</td>\n",
       "      <td>Gosick</td>\n",
       "      <td>10</td>\n",
       "    </tr>\n",
       "  </tbody>\n",
       "</table>\n",
       "<p>24325191 rows × 5 columns</p>\n",
       "</div>"
      ],
      "text/plain": [
       "          user_id    Username  anime_id             Anime Title  rating\n",
       "0               1       Xinil        21               One Piece       9\n",
       "1               1       Xinil        48             .hack//Sign       7\n",
       "2               1       Xinil       320                  A Kite       5\n",
       "3               1       Xinil        49        Aa! Megami-sama!       8\n",
       "4               1       Xinil       304  Aa! Megami-sama! Movie       8\n",
       "...           ...         ...       ...                     ...     ...\n",
       "24325186  1291087   Oblongata     10611                    R-15       3\n",
       "24325187  1291087   Oblongata       174            Tenjou Tenge       6\n",
       "24325188  1291097  JuunanaSai      1535              Death Note       9\n",
       "24325189  1291097  JuunanaSai       226              Elfen Lied      10\n",
       "24325190  1291097  JuunanaSai      8425                  Gosick      10\n",
       "\n",
       "[24325191 rows x 5 columns]"
      ]
     },
     "execution_count": 6,
     "metadata": {},
     "output_type": "execute_result"
    }
   ],
   "source": [
    "user"
   ]
  },
  {
   "cell_type": "markdown",
   "metadata": {},
   "source": [
    "We will only keep the rating for animes which are in our anime_filtered dataset that we have cleaned earlier."
   ]
  },
  {
   "cell_type": "code",
   "execution_count": 7,
   "metadata": {},
   "outputs": [],
   "source": [
    "# Get the valid anime IDs from anime_filtered_df\n",
    "valid_anime_ids = anime_filtered_df['anime_id']"
   ]
  },
  {
   "cell_type": "code",
   "execution_count": 8,
   "metadata": {},
   "outputs": [],
   "source": [
    "# Filter the user dataframe to keep only rows with anime_id in valid_anime_ids\n",
    "user_clean = user[user['anime_id'].isin(valid_anime_ids)]"
   ]
  },
  {
   "cell_type": "code",
   "execution_count": 9,
   "metadata": {},
   "outputs": [],
   "source": [
    "# Reset the index for better readability\n",
    "user_clean.reset_index(drop=True, inplace=True)"
   ]
  },
  {
   "cell_type": "code",
   "execution_count": 10,
   "metadata": {},
   "outputs": [
    {
     "data": {
      "text/html": [
       "<div>\n",
       "<style scoped>\n",
       "    .dataframe tbody tr th:only-of-type {\n",
       "        vertical-align: middle;\n",
       "    }\n",
       "\n",
       "    .dataframe tbody tr th {\n",
       "        vertical-align: top;\n",
       "    }\n",
       "\n",
       "    .dataframe thead th {\n",
       "        text-align: right;\n",
       "    }\n",
       "</style>\n",
       "<table border=\"1\" class=\"dataframe\">\n",
       "  <thead>\n",
       "    <tr style=\"text-align: right;\">\n",
       "      <th></th>\n",
       "      <th>user_id</th>\n",
       "      <th>Username</th>\n",
       "      <th>anime_id</th>\n",
       "      <th>Anime Title</th>\n",
       "      <th>rating</th>\n",
       "    </tr>\n",
       "  </thead>\n",
       "  <tbody>\n",
       "    <tr>\n",
       "      <th>0</th>\n",
       "      <td>1</td>\n",
       "      <td>Xinil</td>\n",
       "      <td>48</td>\n",
       "      <td>.hack//Sign</td>\n",
       "      <td>7</td>\n",
       "    </tr>\n",
       "    <tr>\n",
       "      <th>1</th>\n",
       "      <td>1</td>\n",
       "      <td>Xinil</td>\n",
       "      <td>49</td>\n",
       "      <td>Aa! Megami-sama!</td>\n",
       "      <td>8</td>\n",
       "    </tr>\n",
       "    <tr>\n",
       "      <th>2</th>\n",
       "      <td>1</td>\n",
       "      <td>Xinil</td>\n",
       "      <td>304</td>\n",
       "      <td>Aa! Megami-sama! Movie</td>\n",
       "      <td>8</td>\n",
       "    </tr>\n",
       "    <tr>\n",
       "      <th>3</th>\n",
       "      <td>1</td>\n",
       "      <td>Xinil</td>\n",
       "      <td>306</td>\n",
       "      <td>Abenobashi Mahou☆Shoutengai</td>\n",
       "      <td>8</td>\n",
       "    </tr>\n",
       "    <tr>\n",
       "      <th>4</th>\n",
       "      <td>1</td>\n",
       "      <td>Xinil</td>\n",
       "      <td>53</td>\n",
       "      <td>Ai Yori Aoshi</td>\n",
       "      <td>7</td>\n",
       "    </tr>\n",
       "  </tbody>\n",
       "</table>\n",
       "</div>"
      ],
      "text/plain": [
       "   user_id Username  anime_id                  Anime Title  rating\n",
       "0        1    Xinil        48                  .hack//Sign       7\n",
       "1        1    Xinil        49             Aa! Megami-sama!       8\n",
       "2        1    Xinil       304       Aa! Megami-sama! Movie       8\n",
       "3        1    Xinil       306  Abenobashi Mahou☆Shoutengai       8\n",
       "4        1    Xinil        53                Ai Yori Aoshi       7"
      ]
     },
     "execution_count": 10,
     "metadata": {},
     "output_type": "execute_result"
    }
   ],
   "source": [
    "user_clean.head()"
   ]
  },
  {
   "cell_type": "code",
   "execution_count": 11,
   "metadata": {},
   "outputs": [
    {
     "data": {
      "text/html": [
       "<div>\n",
       "<style scoped>\n",
       "    .dataframe tbody tr th:only-of-type {\n",
       "        vertical-align: middle;\n",
       "    }\n",
       "\n",
       "    .dataframe tbody tr th {\n",
       "        vertical-align: top;\n",
       "    }\n",
       "\n",
       "    .dataframe thead th {\n",
       "        text-align: right;\n",
       "    }\n",
       "</style>\n",
       "<table border=\"1\" class=\"dataframe\">\n",
       "  <thead>\n",
       "    <tr style=\"text-align: right;\">\n",
       "      <th></th>\n",
       "      <th>user_id</th>\n",
       "      <th>anime_id</th>\n",
       "      <th>rating</th>\n",
       "    </tr>\n",
       "  </thead>\n",
       "  <tbody>\n",
       "    <tr>\n",
       "      <th>0</th>\n",
       "      <td>1</td>\n",
       "      <td>48</td>\n",
       "      <td>7</td>\n",
       "    </tr>\n",
       "    <tr>\n",
       "      <th>1</th>\n",
       "      <td>1</td>\n",
       "      <td>49</td>\n",
       "      <td>8</td>\n",
       "    </tr>\n",
       "    <tr>\n",
       "      <th>2</th>\n",
       "      <td>1</td>\n",
       "      <td>304</td>\n",
       "      <td>8</td>\n",
       "    </tr>\n",
       "    <tr>\n",
       "      <th>3</th>\n",
       "      <td>1</td>\n",
       "      <td>306</td>\n",
       "      <td>8</td>\n",
       "    </tr>\n",
       "    <tr>\n",
       "      <th>4</th>\n",
       "      <td>1</td>\n",
       "      <td>53</td>\n",
       "      <td>7</td>\n",
       "    </tr>\n",
       "  </tbody>\n",
       "</table>\n",
       "</div>"
      ],
      "text/plain": [
       "   user_id  anime_id  rating\n",
       "0        1        48       7\n",
       "1        1        49       8\n",
       "2        1       304       8\n",
       "3        1       306       8\n",
       "4        1        53       7"
      ]
     },
     "execution_count": 11,
     "metadata": {},
     "output_type": "execute_result"
    }
   ],
   "source": [
    "# Keep 'user_id', 'anime_id', 'rating' columns from the dataframe\n",
    "user_clean = user_clean[['user_id', 'anime_id', 'rating']]\n",
    "user_clean.head()"
   ]
  },
  {
   "cell_type": "code",
   "execution_count": 12,
   "metadata": {},
   "outputs": [
    {
     "name": "stdout",
     "output_type": "stream",
     "text": [
      "user_id     0\n",
      "anime_id    0\n",
      "rating      0\n",
      "dtype: int64\n"
     ]
    }
   ],
   "source": [
    "# Check for missing values in the entire DataFrame\n",
    "print(user_clean.isnull().sum())"
   ]
  },
  {
   "cell_type": "code",
   "execution_count": 13,
   "metadata": {},
   "outputs": [
    {
     "name": "stdout",
     "output_type": "stream",
     "text": [
      "Number of duplicate rows: 0\n"
     ]
    }
   ],
   "source": [
    "# Check for duplicates\n",
    "duplicates = user_clean.duplicated().sum()\n",
    "print(f\"Number of duplicate rows: {duplicates}\")"
   ]
  },
  {
   "cell_type": "code",
   "execution_count": 14,
   "metadata": {},
   "outputs": [
    {
     "name": "stdout",
     "output_type": "stream",
     "text": [
      "Number of duplicates: 0\n",
      "Empty DataFrame\n",
      "Columns: [user_id, anime_id, rating]\n",
      "Index: []\n"
     ]
    }
   ],
   "source": [
    "# Check for duplicates in user_id and anime_id combinations\n",
    "duplicates = user_clean[user_clean.duplicated(subset=['user_id', 'anime_id'])]\n",
    "print(f\"Number of duplicates: {len(duplicates)}\")\n",
    "print(duplicates.head())"
   ]
  },
  {
   "cell_type": "code",
   "execution_count": 15,
   "metadata": {},
   "outputs": [
    {
     "name": "stdout",
     "output_type": "stream",
     "text": [
      "Number of unique users before filtering: 267605\n",
      "Number of anime before filtering: 9930\n"
     ]
    }
   ],
   "source": [
    "# Check how many unique users\n",
    "print(f\"Number of unique users before filtering: {user_clean['user_id'].nunique()}\")\n",
    "print(f\"Number of anime before filtering: {user_clean['anime_id'].nunique()}\")"
   ]
  },
  {
   "cell_type": "markdown",
   "metadata": {},
   "source": [
    "We have a very large user data, we will trim it down."
   ]
  },
  {
   "cell_type": "code",
   "execution_count": 16,
   "metadata": {},
   "outputs": [],
   "source": [
    "# Count the number of ratings per user\n",
    "user_rating_counts = user_clean.groupby('user_id').size()"
   ]
  },
  {
   "cell_type": "code",
   "execution_count": 17,
   "metadata": {},
   "outputs": [
    {
     "data": {
      "text/plain": [
       "user_id\n",
       "1          248\n",
       "4          279\n",
       "9           65\n",
       "20         104\n",
       "23         280\n",
       "          ... \n",
       "1291057    232\n",
       "1291079     93\n",
       "1291085     59\n",
       "1291087    209\n",
       "1291097      3\n",
       "Length: 267605, dtype: int64"
      ]
     },
     "execution_count": 17,
     "metadata": {},
     "output_type": "execute_result"
    }
   ],
   "source": [
    "user_rating_counts"
   ]
  },
  {
   "cell_type": "markdown",
   "metadata": {},
   "source": [
    "We will do a series of sparsity check for our data, our ideal sweetspot for sparsity is around 70% to 80%."
   ]
  },
  {
   "cell_type": "markdown",
   "metadata": {},
   "source": [
    "From our sparsity check, the sweet spot for users are with users who have rated minimum 300 animes"
   ]
  },
  {
   "cell_type": "code",
   "execution_count": 18,
   "metadata": {},
   "outputs": [
    {
     "name": "stdout",
     "output_type": "stream",
     "text": [
      "Number of unique users: 8624\n"
     ]
    }
   ],
   "source": [
    "# Filter users who have rated at least 300 anime\n",
    "user_clean = user_clean[user_clean['user_id'].isin(user_rating_counts[user_rating_counts >= 300].index)]\n",
    "print(f\"Number of unique users: {user_clean['user_id'].nunique()}\")"
   ]
  },
  {
   "cell_type": "markdown",
   "metadata": {},
   "source": [
    "From our sparsity check, the sweeet spot for anime is animes with over 800 ratings"
   ]
  },
  {
   "cell_type": "code",
   "execution_count": 19,
   "metadata": {},
   "outputs": [
    {
     "name": "stdout",
     "output_type": "stream",
     "text": [
      "Number of anime after filtering: 1920\n"
     ]
    }
   ],
   "source": [
    "# Filter out anime with fewer than 800 ratings\n",
    "anime_counts = user_clean['anime_id'].value_counts()\n",
    "filtered_anime = anime_counts[anime_counts >= 800].index\n",
    "user_clean = user_clean[user_clean['anime_id'].isin(filtered_anime)]\n",
    "print(f\"Number of anime after filtering: {user_clean['anime_id'].nunique()}\")"
   ]
  },
  {
   "cell_type": "code",
   "execution_count": 20,
   "metadata": {},
   "outputs": [
    {
     "name": "stdout",
     "output_type": "stream",
     "text": [
      "Number of unique users: 8624\n",
      "Number of unique anime: 1920\n"
     ]
    }
   ],
   "source": [
    "print(f\"Number of unique users: {user_clean['user_id'].nunique()}\")\n",
    "print(f\"Number of unique anime: {user_clean['anime_id'].nunique()}\")"
   ]
  },
  {
   "cell_type": "markdown",
   "metadata": {},
   "source": [
    "We used the following sparsity checking method and reached our optimal user + anime combination."
   ]
  },
  {
   "cell_type": "code",
   "execution_count": 21,
   "metadata": {},
   "outputs": [
    {
     "name": "stdout",
     "output_type": "stream",
     "text": [
      "Number of Users: 8624\n",
      "Number of Anime: 1920\n",
      "Number of Ratings: 3738836\n",
      "Sparsity: 77.42%\n"
     ]
    }
   ],
   "source": [
    "# Sparsity check: We have run this a few times to get our best combo for user + anime\n",
    "\n",
    "# Number of unique users and anime\n",
    "num_users = user_clean['user_id'].nunique()\n",
    "num_anime = user_clean['anime_id'].nunique()\n",
    "\n",
    "# Total possible interactions (users x anime)\n",
    "total_possible_interactions = num_users * num_anime\n",
    "\n",
    "# Actual number of ratings\n",
    "num_ratings = len(user_clean)\n",
    "\n",
    "# Calculate sparsity\n",
    "sparsity = 1 - (num_ratings / total_possible_interactions)\n",
    "\n",
    "print(f\"Number of Users: {num_users}\")\n",
    "print(f\"Number of Anime: {num_anime}\")\n",
    "print(f\"Number of Ratings: {num_ratings}\")\n",
    "print(f\"Sparsity: {sparsity:.2%}\")"
   ]
  },
  {
   "cell_type": "markdown",
   "metadata": {},
   "source": [
    "Sparsity with 400 and 1000:\n",
    "- Number of Users: 5770\n",
    "- Number of Anime: 1287\n",
    "- Number of Ratings: 2409398\n",
    "- Sparsity: 67.55%\n",
    "\n",
    "Sparsity with 200 and 500:\n",
    "- Number of Users: 40516\n",
    "- Number of Anime: 3978\n",
    "- Number of Ratings: 12586531\n",
    "- Sparsity: 92.19%\n",
    "\n",
    "Sparsity with 250 and 700:\n",
    "- Number of Users: 28341\n",
    "- Number of Anime: 3161\n",
    "- Number of Ratings: 9507865\n",
    "- Sparsity: 89.39%\n",
    "\n",
    "Sparsity with 300 and 800:\n",
    "- Number of Users: 8624\n",
    "- Number of Anime: 1920\n",
    "- Number of Ratings: 3738836\n",
    "- Sparsity: 77.42%"
   ]
  },
  {
   "cell_type": "markdown",
   "metadata": {},
   "source": [
    "Now we can save this user dataset for later usage."
   ]
  },
  {
   "cell_type": "code",
   "execution_count": 22,
   "metadata": {},
   "outputs": [],
   "source": [
    "user_clean.to_csv(\"data/user_clean.csv\", index=False)"
   ]
  },
  {
   "cell_type": "markdown",
   "metadata": {},
   "source": [
    "Our user_clean dataset with Number of Users: 8624, Number of Anime: 1920, Number of Ratings: 3738836 and Sparsity: 77.42% is a good combination to build our collaborative model and also easier to handle with limited resources. "
   ]
  }
 ],
 "metadata": {
  "kernelspec": {
   "display_name": "base",
   "language": "python",
   "name": "python3"
  },
  "language_info": {
   "codemirror_mode": {
    "name": "ipython",
    "version": 3
   },
   "file_extension": ".py",
   "mimetype": "text/x-python",
   "name": "python",
   "nbconvert_exporter": "python",
   "pygments_lexer": "ipython3",
   "version": "3.12.4"
  }
 },
 "nbformat": 4,
 "nbformat_minor": 2
}
