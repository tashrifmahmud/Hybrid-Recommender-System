{
 "cells": [
  {
   "cell_type": "markdown",
   "metadata": {},
   "source": [
    "Now we will build our collaborative model using user data."
   ]
  },
  {
   "cell_type": "markdown",
   "metadata": {},
   "source": [
    "First we will import our cleaned anime and user data."
   ]
  },
  {
   "cell_type": "code",
   "execution_count": 1,
   "metadata": {},
   "outputs": [],
   "source": [
    "import pandas as pd"
   ]
  },
  {
   "cell_type": "code",
   "execution_count": 3,
   "metadata": {},
   "outputs": [],
   "source": [
    "anime_filtered_df = pd.read_csv(\"data/anime_filtered.csv\")"
   ]
  },
  {
   "cell_type": "code",
   "execution_count": 4,
   "metadata": {},
   "outputs": [
    {
     "data": {
      "text/html": [
       "<div>\n",
       "<style scoped>\n",
       "    .dataframe tbody tr th:only-of-type {\n",
       "        vertical-align: middle;\n",
       "    }\n",
       "\n",
       "    .dataframe tbody tr th {\n",
       "        vertical-align: top;\n",
       "    }\n",
       "\n",
       "    .dataframe thead th {\n",
       "        text-align: right;\n",
       "    }\n",
       "</style>\n",
       "<table border=\"1\" class=\"dataframe\">\n",
       "  <thead>\n",
       "    <tr style=\"text-align: right;\">\n",
       "      <th></th>\n",
       "      <th>anime_id</th>\n",
       "      <th>name</th>\n",
       "      <th>score</th>\n",
       "      <th>rank</th>\n",
       "      <th>genres</th>\n",
       "      <th>synopsis</th>\n",
       "      <th>type</th>\n",
       "      <th>episodes</th>\n",
       "      <th>popularity</th>\n",
       "      <th>members</th>\n",
       "      <th>studios</th>\n",
       "      <th>source</th>\n",
       "      <th>favorites</th>\n",
       "      <th>rating</th>\n",
       "      <th>year</th>\n",
       "    </tr>\n",
       "  </thead>\n",
       "  <tbody>\n",
       "    <tr>\n",
       "      <th>0</th>\n",
       "      <td>1</td>\n",
       "      <td>cowboy bebop</td>\n",
       "      <td>8.75</td>\n",
       "      <td>41.0</td>\n",
       "      <td>action, award winning, sci-fi</td>\n",
       "      <td>crime is timeless. by the year 2071, humanity ...</td>\n",
       "      <td>tv</td>\n",
       "      <td>26.0</td>\n",
       "      <td>43</td>\n",
       "      <td>1771505</td>\n",
       "      <td>sunrise</td>\n",
       "      <td>original</td>\n",
       "      <td>78525</td>\n",
       "      <td>rated 17</td>\n",
       "      <td>1998</td>\n",
       "    </tr>\n",
       "    <tr>\n",
       "      <th>1</th>\n",
       "      <td>5</td>\n",
       "      <td>cowboy bebop: tengoku no tobira</td>\n",
       "      <td>8.38</td>\n",
       "      <td>189.0</td>\n",
       "      <td>action, sci-fi</td>\n",
       "      <td>another day, another bounty—such is the life o...</td>\n",
       "      <td>movie</td>\n",
       "      <td>1.0</td>\n",
       "      <td>602</td>\n",
       "      <td>360978</td>\n",
       "      <td>bones</td>\n",
       "      <td>original</td>\n",
       "      <td>1448</td>\n",
       "      <td>rated 17</td>\n",
       "      <td>2001</td>\n",
       "    </tr>\n",
       "    <tr>\n",
       "      <th>2</th>\n",
       "      <td>6</td>\n",
       "      <td>trigun</td>\n",
       "      <td>8.22</td>\n",
       "      <td>328.0</td>\n",
       "      <td>action, adventure, sci-fi</td>\n",
       "      <td>vash the stampede is the man with a $$60,000,0...</td>\n",
       "      <td>tv</td>\n",
       "      <td>26.0</td>\n",
       "      <td>246</td>\n",
       "      <td>727252</td>\n",
       "      <td>madhouse</td>\n",
       "      <td>manga</td>\n",
       "      <td>15035</td>\n",
       "      <td>parental guidance 13</td>\n",
       "      <td>1998</td>\n",
       "    </tr>\n",
       "    <tr>\n",
       "      <th>3</th>\n",
       "      <td>7</td>\n",
       "      <td>witch hunter robin</td>\n",
       "      <td>7.25</td>\n",
       "      <td>2764.0</td>\n",
       "      <td>action, drama, mystery, supernatural</td>\n",
       "      <td>robin sena is a powerful craft user drafted in...</td>\n",
       "      <td>tv</td>\n",
       "      <td>26.0</td>\n",
       "      <td>1795</td>\n",
       "      <td>111931</td>\n",
       "      <td>sunrise</td>\n",
       "      <td>original</td>\n",
       "      <td>613</td>\n",
       "      <td>parental guidance 13</td>\n",
       "      <td>2002</td>\n",
       "    </tr>\n",
       "    <tr>\n",
       "      <th>4</th>\n",
       "      <td>8</td>\n",
       "      <td>bouken ou beet</td>\n",
       "      <td>6.94</td>\n",
       "      <td>4240.0</td>\n",
       "      <td>adventure, fantasy, supernatural</td>\n",
       "      <td>it is the dark century and the people are suff...</td>\n",
       "      <td>tv</td>\n",
       "      <td>52.0</td>\n",
       "      <td>5126</td>\n",
       "      <td>15001</td>\n",
       "      <td>toei animation</td>\n",
       "      <td>manga</td>\n",
       "      <td>14</td>\n",
       "      <td>parental guidance</td>\n",
       "      <td>2004</td>\n",
       "    </tr>\n",
       "  </tbody>\n",
       "</table>\n",
       "</div>"
      ],
      "text/plain": [
       "   anime_id                             name  score    rank  \\\n",
       "0         1                     cowboy bebop   8.75    41.0   \n",
       "1         5  cowboy bebop: tengoku no tobira   8.38   189.0   \n",
       "2         6                           trigun   8.22   328.0   \n",
       "3         7               witch hunter robin   7.25  2764.0   \n",
       "4         8                   bouken ou beet   6.94  4240.0   \n",
       "\n",
       "                                 genres  \\\n",
       "0         action, award winning, sci-fi   \n",
       "1                        action, sci-fi   \n",
       "2             action, adventure, sci-fi   \n",
       "3  action, drama, mystery, supernatural   \n",
       "4      adventure, fantasy, supernatural   \n",
       "\n",
       "                                            synopsis   type  episodes  \\\n",
       "0  crime is timeless. by the year 2071, humanity ...     tv      26.0   \n",
       "1  another day, another bounty—such is the life o...  movie       1.0   \n",
       "2  vash the stampede is the man with a $$60,000,0...     tv      26.0   \n",
       "3  robin sena is a powerful craft user drafted in...     tv      26.0   \n",
       "4  it is the dark century and the people are suff...     tv      52.0   \n",
       "\n",
       "   popularity  members         studios    source  favorites  \\\n",
       "0          43  1771505         sunrise  original      78525   \n",
       "1         602   360978           bones  original       1448   \n",
       "2         246   727252        madhouse     manga      15035   \n",
       "3        1795   111931         sunrise  original        613   \n",
       "4        5126    15001  toei animation     manga         14   \n",
       "\n",
       "                 rating  year  \n",
       "0              rated 17  1998  \n",
       "1              rated 17  2001  \n",
       "2  parental guidance 13  1998  \n",
       "3  parental guidance 13  2002  \n",
       "4     parental guidance  2004  "
      ]
     },
     "execution_count": 4,
     "metadata": {},
     "output_type": "execute_result"
    }
   ],
   "source": [
    "anime_filtered_df.head()"
   ]
  },
  {
   "cell_type": "code",
   "execution_count": 5,
   "metadata": {},
   "outputs": [],
   "source": [
    "user_clean = pd.read_csv(\"data/user_clean.csv\")"
   ]
  },
  {
   "cell_type": "code",
   "execution_count": 6,
   "metadata": {},
   "outputs": [
    {
     "data": {
      "text/html": [
       "<div>\n",
       "<style scoped>\n",
       "    .dataframe tbody tr th:only-of-type {\n",
       "        vertical-align: middle;\n",
       "    }\n",
       "\n",
       "    .dataframe tbody tr th {\n",
       "        vertical-align: top;\n",
       "    }\n",
       "\n",
       "    .dataframe thead th {\n",
       "        text-align: right;\n",
       "    }\n",
       "</style>\n",
       "<table border=\"1\" class=\"dataframe\">\n",
       "  <thead>\n",
       "    <tr style=\"text-align: right;\">\n",
       "      <th></th>\n",
       "      <th>user_id</th>\n",
       "      <th>anime_id</th>\n",
       "      <th>rating</th>\n",
       "    </tr>\n",
       "  </thead>\n",
       "  <tbody>\n",
       "    <tr>\n",
       "      <th>0</th>\n",
       "      <td>48</td>\n",
       "      <td>9062</td>\n",
       "      <td>7</td>\n",
       "    </tr>\n",
       "    <tr>\n",
       "      <th>1</th>\n",
       "      <td>48</td>\n",
       "      <td>6746</td>\n",
       "      <td>8</td>\n",
       "    </tr>\n",
       "    <tr>\n",
       "      <th>2</th>\n",
       "      <td>48</td>\n",
       "      <td>6702</td>\n",
       "      <td>6</td>\n",
       "    </tr>\n",
       "    <tr>\n",
       "      <th>3</th>\n",
       "      <td>48</td>\n",
       "      <td>9314</td>\n",
       "      <td>7</td>\n",
       "    </tr>\n",
       "    <tr>\n",
       "      <th>4</th>\n",
       "      <td>48</td>\n",
       "      <td>9367</td>\n",
       "      <td>5</td>\n",
       "    </tr>\n",
       "  </tbody>\n",
       "</table>\n",
       "</div>"
      ],
      "text/plain": [
       "   user_id  anime_id  rating\n",
       "0       48      9062       7\n",
       "1       48      6746       8\n",
       "2       48      6702       6\n",
       "3       48      9314       7\n",
       "4       48      9367       5"
      ]
     },
     "execution_count": 6,
     "metadata": {},
     "output_type": "execute_result"
    }
   ],
   "source": [
    "user_clean.head()"
   ]
  },
  {
   "cell_type": "markdown",
   "metadata": {},
   "source": [
    "We will use SVD (Singular Value Decomposition) which is efficient for decomposing large user-item matrices into latent factors. Users and animes are represented in a shared latent space, enabling similarity computation. We will start with importing necessary libraries."
   ]
  },
  {
   "cell_type": "code",
   "execution_count": 9,
   "metadata": {},
   "outputs": [],
   "source": [
    "from surprise import SVD, Dataset, Reader\n",
    "from surprise.model_selection import train_test_split\n",
    "from surprise import accuracy\n",
    "import numpy as np"
   ]
  },
  {
   "cell_type": "markdown",
   "metadata": {},
   "source": [
    "Prepare the Dataset"
   ]
  },
  {
   "cell_type": "code",
   "execution_count": 24,
   "metadata": {},
   "outputs": [],
   "source": [
    "# Define a Reader object with the rating scale\n",
    "reader = Reader(rating_scale=(1, 10)) "
   ]
  },
  {
   "cell_type": "code",
   "execution_count": 25,
   "metadata": {},
   "outputs": [],
   "source": [
    "# Load data into Surprise's Dataset\n",
    "data = Dataset.load_from_df(user_clean[['user_id', 'anime_id', 'rating']], reader)"
   ]
  },
  {
   "cell_type": "markdown",
   "metadata": {},
   "source": [
    " Split Data into Training and Test Sets"
   ]
  },
  {
   "cell_type": "code",
   "execution_count": 26,
   "metadata": {},
   "outputs": [],
   "source": [
    "# Split into training and test sets (80% train, 20% test)\n",
    "trainset, testset = train_test_split(data, test_size=0.2, random_state=42)"
   ]
  },
  {
   "cell_type": "markdown",
   "metadata": {},
   "source": [
    "Train the SVD Model"
   ]
  },
  {
   "cell_type": "markdown",
   "metadata": {},
   "source": [
    "_(We already ran our gridsearch cv for hyperparamter tuning in our previous runs so we can simply put those optimal paramters here)_"
   ]
  },
  {
   "cell_type": "code",
   "execution_count": null,
   "metadata": {},
   "outputs": [],
   "source": [
    "# Initialize the SVD algorithm\n",
    "svd = SVD(n_factors=200,    # Number of latent factors from gridsearch\n",
    "          n_epochs=20,      # Number of epochs from gridsearch\n",
    "          lr_all=0.005,     # Learning rate from gridsearch\n",
    "          reg_all=0.05)     # Regularization from gridsearch"
   ]
  },
  {
   "cell_type": "code",
   "execution_count": 28,
   "metadata": {},
   "outputs": [
    {
     "data": {
      "text/plain": [
       "<surprise.prediction_algorithms.matrix_factorization.SVD at 0x24c000801d0>"
      ]
     },
     "execution_count": 28,
     "metadata": {},
     "output_type": "execute_result"
    }
   ],
   "source": [
    "# Train the model on the training set\n",
    "svd.fit(trainset)"
   ]
  },
  {
   "cell_type": "markdown",
   "metadata": {},
   "source": [
    "Evaluate the Model using RMSE"
   ]
  },
  {
   "cell_type": "code",
   "execution_count": 29,
   "metadata": {},
   "outputs": [],
   "source": [
    "# Predict on the test set\n",
    "predictions = svd.test(testset)"
   ]
  },
  {
   "cell_type": "code",
   "execution_count": 30,
   "metadata": {},
   "outputs": [
    {
     "name": "stdout",
     "output_type": "stream",
     "text": [
      "RMSE: 1.1114\n",
      "Test RMSE: 1.111355181776524\n"
     ]
    }
   ],
   "source": [
    "# Evaluate RMSE\n",
    "rmse = accuracy.rmse(predictions)\n",
    "print(f\"Test RMSE: {rmse}\")"
   ]
  },
  {
   "cell_type": "markdown",
   "metadata": {},
   "source": [
    "We ran a couple of test runs before to also figure out the best dataset combination for user + anime."
   ]
  },
  {
   "cell_type": "markdown",
   "metadata": {},
   "source": [
    "Run 1 with 50 rated, 50 rating:\n",
    "- Test RMSE: 1.1829577065272816\n",
    "\n",
    "Run 2 with 100 rated, 200 rating:\n",
    "- Test RMSE: 1.1606663648799898\n",
    "\n",
    "Run 3 with 200 rated, 500 rating:\n",
    "- Test RMSE: 1.1269778555038497 \n",
    "\n",
    "Run 4 with 400 rated, 1000 rating:\n",
    "- Test RMSE: 1.1334690466014203\n",
    "\n",
    "Run 5 with 300 rate, 800 rating:\n",
    "- Test RMSE: 1.111355181776524"
   ]
  },
  {
   "cell_type": "markdown",
   "metadata": {},
   "source": [
    "Lets do hyperparameter tuning with Gridsearch CV (already done before)"
   ]
  },
  {
   "cell_type": "code",
   "execution_count": 36,
   "metadata": {},
   "outputs": [],
   "source": [
    "from surprise.model_selection import GridSearchCV\n",
    "from surprise import SVD, accuracy"
   ]
  },
  {
   "cell_type": "code",
   "execution_count": null,
   "metadata": {},
   "outputs": [],
   "source": [
    "# Define parameter grid\n",
    "param_grid = {\n",
    "    'n_factors': [50, 100, 200, 300],\n",
    "    'n_epochs': [10, 20, 30],\n",
    "    'lr_all': [0.003, 0.005, 0.01],\n",
    "    'reg_all': [0.02, 0.05, 0.1]\n",
    "}"
   ]
  },
  {
   "cell_type": "code",
   "execution_count": 51,
   "metadata": {},
   "outputs": [],
   "source": [
    "# Perform grid search\n",
    "grid_search = GridSearchCV(SVD, param_grid, measures=['rmse'], cv=3, n_jobs=-1)\n",
    "grid_search.fit(data)"
   ]
  },
  {
   "cell_type": "code",
   "execution_count": 52,
   "metadata": {},
   "outputs": [
    {
     "name": "stdout",
     "output_type": "stream",
     "text": [
      "Best RMSE: 1.1245594745629168\n",
      "Best Parameters: {'n_factors': 200, 'n_epochs': 20, 'lr_all': 0.005, 'reg_all': 0.05}\n"
     ]
    }
   ],
   "source": [
    "# Output the best score and parameters\n",
    "print(\"Best RMSE:\", grid_search.best_score['rmse'])\n",
    "print(\"Best Parameters:\", grid_search.best_params['rmse'])"
   ]
  },
  {
   "cell_type": "markdown",
   "metadata": {},
   "source": [
    "400 users and 1000+ rating:\n",
    "- Best RMSE: 1.1219733459903392\n",
    "- Best Parameters: {'n_factors': 50, 'n_epochs': 20, 'lr_all': 0.01, 'reg_all': 0.05}\n",
    "\n",
    "300 users and 800+ rating: \n",
    "- Best RMSE: 1.1302356374242466\n",
    "- Best Parameters: {'n_factors': 100, 'n_epochs': 20, 'lr_all': 0.01, 'reg_all': 0.05}\n",
    "-\n",
    "- Best RMSE: 1.124383666758084\n",
    "- Best Parameters: {'n_factors': 200, 'n_epochs': 20, 'lr_all': 0.005, 'reg_all': 0.05}\n",
    "- Test RMSE: 1.111182922356423\n",
    "-\n",
    "- Best RMSE: 1.1230012845978004\n",
    "- Best Parameters: {'n_factors': 300, 'n_epochs': 20, 'lr_all': 0.005, 'reg_all': 0.05}\n",
    "- Test RMSE: 1.1092369091404355"
   ]
  },
  {
   "cell_type": "code",
   "execution_count": 53,
   "metadata": {},
   "outputs": [
    {
     "data": {
      "text/plain": [
       "<surprise.prediction_algorithms.matrix_factorization.SVD at 0x2a21f6b2de0>"
      ]
     },
     "execution_count": 53,
     "metadata": {},
     "output_type": "execute_result"
    }
   ],
   "source": [
    "# Train SVD with the best parameters\n",
    "best_svd = grid_search.best_estimator['rmse']\n",
    "best_svd.fit(trainset)"
   ]
  },
  {
   "cell_type": "code",
   "execution_count": 55,
   "metadata": {},
   "outputs": [],
   "source": [
    "# Test predictions\n",
    "predictions = best_svd.test(testset)"
   ]
  },
  {
   "cell_type": "code",
   "execution_count": 56,
   "metadata": {},
   "outputs": [
    {
     "name": "stdout",
     "output_type": "stream",
     "text": [
      "RMSE: 1.1112\n",
      "Final Test RMSE: 1.111182922356423\n"
     ]
    }
   ],
   "source": [
    "# Evaluate RMSE\n",
    "rmse = accuracy.rmse(predictions)\n",
    "print(f\"Final Test RMSE: {rmse}\")"
   ]
  },
  {
   "cell_type": "markdown",
   "metadata": {},
   "source": [
    "With our tuned model now we can do some anime recommendations."
   ]
  },
  {
   "cell_type": "markdown",
   "metadata": {},
   "source": [
    "New user's ratings for Cowboy Bebop, Trigun and Monster:"
   ]
  },
  {
   "cell_type": "code",
   "execution_count": null,
   "metadata": {},
   "outputs": [],
   "source": [
    "new_user_ratings = [\n",
    "    (0, 1, 8),  # User ID 0, Anime ID 1, Rating 8 \n",
    "    (0, 6, 7),  # User ID 0, Anime ID 6, Rating 9\n",
    "    (0, 19, 10), # User ID 0, Anime ID 19, Rating 10\n",
    "]"
   ]
  },
  {
   "cell_type": "markdown",
   "metadata": {},
   "source": [
    "Make Predictions:"
   ]
  },
  {
   "cell_type": "code",
   "execution_count": 32,
   "metadata": {},
   "outputs": [],
   "source": [
    "# List of all anime IDs\n",
    "all_anime_ids = user_clean['anime_id'].unique()"
   ]
  },
  {
   "cell_type": "code",
   "execution_count": 33,
   "metadata": {},
   "outputs": [],
   "source": [
    "# Anime already rated by the new user\n",
    "rated_anime_ids = [rating[1] for rating in new_user_ratings]"
   ]
  },
  {
   "cell_type": "code",
   "execution_count": 34,
   "metadata": {},
   "outputs": [],
   "source": [
    "# Generate predictions for all other anime\n",
    "recommendations = []\n",
    "for anime_id in all_anime_ids:\n",
    "    if anime_id not in rated_anime_ids:\n",
    "        # Predict for the new user (user_id = 0) and unseen anime\n",
    "        pred = svd.predict(uid=0, iid=anime_id)\n",
    "        recommendations.append((anime_id, pred.est))"
   ]
  },
  {
   "cell_type": "code",
   "execution_count": 35,
   "metadata": {},
   "outputs": [],
   "source": [
    "# Sort recommendations by predicted rating\n",
    "recommendations = sorted(recommendations, key=lambda x: x[1], reverse=True)"
   ]
  },
  {
   "cell_type": "code",
   "execution_count": 36,
   "metadata": {},
   "outputs": [
    {
     "name": "stdout",
     "output_type": "stream",
     "text": [
      "Top 10 Recommendations:\n",
      "Anime ID: 5114, Predicted Rating: 8.817364631936927\n",
      "Anime ID: 9253, Predicted Rating: 8.678385913965682\n",
      "Anime ID: 32281, Predicted Rating: 8.665134990366706\n",
      "Anime ID: 44, Predicted Rating: 8.66042625471332\n",
      "Anime ID: 28977, Predicted Rating: 8.647542828389533\n",
      "Anime ID: 15335, Predicted Rating: 8.647527995831881\n",
      "Anime ID: 4181, Predicted Rating: 8.603174197309315\n",
      "Anime ID: 9969, Predicted Rating: 8.597680425914291\n",
      "Anime ID: 15417, Predicted Rating: 8.5694255235959\n",
      "Anime ID: 820, Predicted Rating: 8.516752173439695\n"
     ]
    }
   ],
   "source": [
    "# Top 10 recommendations\n",
    "top_10 = recommendations[:10]\n",
    "print(\"Top 10 Recommendations:\")\n",
    "for anime_id, rating in top_10:\n",
    "    print(f\"Anime ID: {anime_id}, Predicted Rating: {rating}\")"
   ]
  },
  {
   "cell_type": "markdown",
   "metadata": {},
   "source": [
    "Now we can add anime name and genres from anime_filtered dataset to this result."
   ]
  },
  {
   "cell_type": "code",
   "execution_count": 37,
   "metadata": {},
   "outputs": [],
   "source": [
    "# anime_filtered_df has columns 'anime_id', 'name', and 'genres'\n",
    "top_10_df = pd.DataFrame(top_10, columns=['anime_id', 'predicted_rating'])\n",
    "top_10_detailed = pd.merge(top_10_df, anime_filtered_df, on='anime_id')"
   ]
  },
  {
   "cell_type": "markdown",
   "metadata": {},
   "source": [
    "Since we ran a few test runs we can easily see the improvement here in Run 5:"
   ]
  },
  {
   "cell_type": "code",
   "execution_count": 38,
   "metadata": {},
   "outputs": [
    {
     "data": {
      "text/html": [
       "<div>\n",
       "<style scoped>\n",
       "    .dataframe tbody tr th:only-of-type {\n",
       "        vertical-align: middle;\n",
       "    }\n",
       "\n",
       "    .dataframe tbody tr th {\n",
       "        vertical-align: top;\n",
       "    }\n",
       "\n",
       "    .dataframe thead th {\n",
       "        text-align: right;\n",
       "    }\n",
       "</style>\n",
       "<table border=\"1\" class=\"dataframe\">\n",
       "  <thead>\n",
       "    <tr style=\"text-align: right;\">\n",
       "      <th></th>\n",
       "      <th>anime_id</th>\n",
       "      <th>name</th>\n",
       "      <th>genres</th>\n",
       "      <th>predicted_rating</th>\n",
       "    </tr>\n",
       "  </thead>\n",
       "  <tbody>\n",
       "    <tr>\n",
       "      <th>0</th>\n",
       "      <td>5114</td>\n",
       "      <td>fullmetal alchemist: brotherhood</td>\n",
       "      <td>action, adventure, drama, fantasy</td>\n",
       "      <td>8.817365</td>\n",
       "    </tr>\n",
       "    <tr>\n",
       "      <th>1</th>\n",
       "      <td>9253</td>\n",
       "      <td>steins;gate</td>\n",
       "      <td>drama, sci-fi, suspense</td>\n",
       "      <td>8.678386</td>\n",
       "    </tr>\n",
       "    <tr>\n",
       "      <th>2</th>\n",
       "      <td>32281</td>\n",
       "      <td>kimi no na wa.</td>\n",
       "      <td>award winning, drama, supernatural</td>\n",
       "      <td>8.665135</td>\n",
       "    </tr>\n",
       "    <tr>\n",
       "      <th>3</th>\n",
       "      <td>44</td>\n",
       "      <td>rurouni kenshin: meiji kenkaku romantan - tsui...</td>\n",
       "      <td>action, drama, romance</td>\n",
       "      <td>8.660426</td>\n",
       "    </tr>\n",
       "    <tr>\n",
       "      <th>4</th>\n",
       "      <td>28977</td>\n",
       "      <td>gintama°</td>\n",
       "      <td>action, comedy, sci-fi</td>\n",
       "      <td>8.647543</td>\n",
       "    </tr>\n",
       "    <tr>\n",
       "      <th>5</th>\n",
       "      <td>15335</td>\n",
       "      <td>gintama movie 2: kanketsu-hen - yorozuya yo ei...</td>\n",
       "      <td>action, comedy, sci-fi</td>\n",
       "      <td>8.647528</td>\n",
       "    </tr>\n",
       "    <tr>\n",
       "      <th>6</th>\n",
       "      <td>4181</td>\n",
       "      <td>clannad: after story</td>\n",
       "      <td>drama, romance, supernatural</td>\n",
       "      <td>8.603174</td>\n",
       "    </tr>\n",
       "    <tr>\n",
       "      <th>7</th>\n",
       "      <td>9969</td>\n",
       "      <td>gintama'</td>\n",
       "      <td>action, comedy, sci-fi</td>\n",
       "      <td>8.597680</td>\n",
       "    </tr>\n",
       "    <tr>\n",
       "      <th>8</th>\n",
       "      <td>15417</td>\n",
       "      <td>gintama': enchousen</td>\n",
       "      <td>action, comedy, sci-fi</td>\n",
       "      <td>8.569426</td>\n",
       "    </tr>\n",
       "    <tr>\n",
       "      <th>9</th>\n",
       "      <td>820</td>\n",
       "      <td>ginga eiyuu densetsu</td>\n",
       "      <td>drama, sci-fi</td>\n",
       "      <td>8.516752</td>\n",
       "    </tr>\n",
       "  </tbody>\n",
       "</table>\n",
       "</div>"
      ],
      "text/plain": [
       "   anime_id                                               name  \\\n",
       "0      5114                   fullmetal alchemist: brotherhood   \n",
       "1      9253                                        steins;gate   \n",
       "2     32281                                     kimi no na wa.   \n",
       "3        44  rurouni kenshin: meiji kenkaku romantan - tsui...   \n",
       "4     28977                                           gintama°   \n",
       "5     15335  gintama movie 2: kanketsu-hen - yorozuya yo ei...   \n",
       "6      4181                               clannad: after story   \n",
       "7      9969                                           gintama'   \n",
       "8     15417                                gintama': enchousen   \n",
       "9       820                               ginga eiyuu densetsu   \n",
       "\n",
       "                               genres  predicted_rating  \n",
       "0   action, adventure, drama, fantasy          8.817365  \n",
       "1             drama, sci-fi, suspense          8.678386  \n",
       "2  award winning, drama, supernatural          8.665135  \n",
       "3              action, drama, romance          8.660426  \n",
       "4              action, comedy, sci-fi          8.647543  \n",
       "5              action, comedy, sci-fi          8.647528  \n",
       "6        drama, romance, supernatural          8.603174  \n",
       "7              action, comedy, sci-fi          8.597680  \n",
       "8              action, comedy, sci-fi          8.569426  \n",
       "9                       drama, sci-fi          8.516752  "
      ]
     },
     "execution_count": 38,
     "metadata": {},
     "output_type": "execute_result"
    }
   ],
   "source": [
    "# Display top 10 with details\n",
    "top_10_detailed[['anime_id', 'name', 'genres', 'predicted_rating']]"
   ]
  },
  {
   "cell_type": "markdown",
   "metadata": {},
   "source": [
    "Run 1:\n",
    "| Name                                      | Genres                                | Predicted Rating |\n",
    "|-------------------------------------------|---------------------------------------|------------------|\n",
    "| Kimi no Na wa.                            | Award Winning, Drama, Supernatural    | 9.049190         |\n",
    "| Fullmetal Alchemist: Brotherhood          | Action, Adventure, Drama, Fantasy     | 9.016155         |\n",
    "| Steins;Gate                               | Drama, Sci-Fi, Suspense               | 8.922295         |\n",
    "| Rurouni Kenshin: Meiji Kenkaku Romantan - Tsui... | Action, Drama, Romance               | 8.852004         |\n",
    "| Sen to Chihiro no Kamikakushi             | Adventure, Award Winning, Supernatural| 8.798092         |\n",
    "| The First Slam Dunk                       | Award Winning, Sports                 | 8.781020         |\n",
    "| Clannad: After Story                      | Drama, Romance, Supernatural          | 8.766202         |\n",
    "| Doupo Cangqiong: San Nian Zhi Yue         | Action, Fantasy                       | 8.762913         |\n",
    "| Ginga Eiyuu Densetsu                      | Drama, Sci-Fi                         | 8.753458         |\n",
    "| Gintama Movie 2: Kanketsu-hen - Yorozuya yo Ei... | Action, Comedy, Sci-Fi               | 8.746942         |\n"
   ]
  },
  {
   "cell_type": "markdown",
   "metadata": {},
   "source": [
    "Run 2:\n",
    "| Name                                      | Genres                                | Predicted Rating |\n",
    "|-------------------------------------------|---------------------------------------|------------------|\n",
    "| Fullmetal Alchemist: Brotherhood          | Action, Adventure, Drama, Fantasy     | 9.000304         |\n",
    "| Kimi no Na wa.                            | Award Winning, Drama, Supernatural    | 8.991726         |\n",
    "| Steins;Gate                               | Drama, Sci-Fi, Suspense               | 8.839333         |\n",
    "| Gintama°                                  | Action, Comedy, Sci-Fi                | 8.766442         |\n",
    "| Sen to Chihiro no Kamikakushi             | Adventure, Award Winning, Supernatural| 8.723244         |\n",
    "| Ookami Kodomo no Ame to Yuki              | Award Winning, Fantasy, Slice of Life | 8.712725         |\n",
    "| Gintama'                                  | Action, Comedy, Sci-Fi                | 8.706339         |\n",
    "| Gintama Movie 2: Kanketsu-hen - Yorozuya yo Ei... | Action, Comedy, Sci-Fi               | 8.704523         |\n",
    "| Hunter x Hunter (2011)                    | Action, Adventure, Fantasy            | 8.701267         |\n",
    "| Hajime no Ippo                            | Sports                                | 8.692973         |\n"
   ]
  },
  {
   "cell_type": "markdown",
   "metadata": {},
   "source": [
    "Run 3:\n",
    "| Name                                      | Genres                                | Predicted Rating |\n",
    "|-------------------------------------------|---------------------------------------|------------------|\n",
    "| Fullmetal Alchemist: Brotherhood          | Action, Adventure, Drama, Fantasy     | 8.975653         |\n",
    "| Kimi no Na wa.                            | Award Winning, Drama, Supernatural    | 8.844541         |\n",
    "| Steins;Gate                               | Drama, Sci-Fi, Suspense               | 8.829259         |\n",
    "| Gintama'                                  | Action, Comedy, Sci-Fi                | 8.761310         |\n",
    "| Hunter x Hunter (2011)                    | Action, Adventure, Fantasy            | 8.740554         |\n",
    "| Ginga Eiyuu Densetsu                      | Drama, Sci-Fi                         | 8.728148         |\n",
    "| Gintama°                                  | Action, Comedy, Sci-Fi                | 8.704312         |\n",
    "| Gintama Movie 2: Kanketsu-hen - Yorozuya yo Ei... | Action, Comedy, Sci-Fi               | 8.672002         |\n",
    "| Rurouni Kenshin: Meiji Kenkaku Romantan - Tsui... | Action, Drama, Romance               | 8.657989         |\n",
    "| Koe no Katachi                            | Award Winning, Drama                  | 8.650224         |\n"
   ]
  },
  {
   "cell_type": "markdown",
   "metadata": {},
   "source": [
    "Run 4: \n",
    "| Name                                      | Genres                                | Predicted Rating |\n",
    "|-------------------------------------------|---------------------------------------|------------------|\n",
    "| Fullmetal Alchemist: Brotherhood          | Action, Adventure, Drama, Fantasy     | 8.817365         |\n",
    "| Steins;Gate                               | Drama, Sci-Fi, Suspense               | 8.678386         |\n",
    "| Kimi no Na wa.                            | Award Winning, Drama, Supernatural    | 8.665135         |\n",
    "| Rurouni Kenshin: Meiji Kenkaku Romantan - Tsui... | Action, Drama, Romance               | 8.660426         |\n",
    "| Gintama°                                  | Action, Comedy, Sci-Fi                | 8.647543         |\n",
    "| Gintama Movie 2: Kanketsu-hen - Yorozuya yo Ei... | Action, Comedy, Sci-Fi               | 8.647528         |\n",
    "| Clannad: After Story                      | Drama, Romance, Supernatural          | 8.603174         |\n",
    "| Gintama'                                  | Action, Comedy, Sci-Fi                | 8.597680         |\n",
    "| Gintama': Enchousen                       | Action, Comedy, Sci-Fi                | 8.569426         |\n",
    "| Ginga Eiyuu Densetsu                      | Drama, Sci-Fi                         | 8.516752         |\n"
   ]
  },
  {
   "cell_type": "markdown",
   "metadata": {},
   "source": [
    "Saving files"
   ]
  },
  {
   "cell_type": "code",
   "execution_count": 39,
   "metadata": {},
   "outputs": [],
   "source": [
    "from surprise import dump"
   ]
  },
  {
   "cell_type": "code",
   "execution_count": 40,
   "metadata": {},
   "outputs": [],
   "source": [
    "# Save the SVD model\n",
    "dump.dump(\"data/svd_model_3\", algo=svd)"
   ]
  },
  {
   "cell_type": "code",
   "execution_count": 41,
   "metadata": {},
   "outputs": [
    {
     "data": {
      "text/plain": [
       "['data/svd_model_3.pkl']"
      ]
     },
     "execution_count": 41,
     "metadata": {},
     "output_type": "execute_result"
    }
   ],
   "source": [
    "import joblib\n",
    "# Save the trained SVD model\n",
    "joblib.dump(svd, \"data/svd_model_3.pkl\")"
   ]
  }
 ],
 "metadata": {
  "kernelspec": {
   "display_name": "base",
   "language": "python",
   "name": "python3"
  },
  "language_info": {
   "codemirror_mode": {
    "name": "ipython",
    "version": 3
   },
   "file_extension": ".py",
   "mimetype": "text/x-python",
   "name": "python",
   "nbconvert_exporter": "python",
   "pygments_lexer": "ipython3",
   "version": "3.12.4"
  }
 },
 "nbformat": 4,
 "nbformat_minor": 2
}
